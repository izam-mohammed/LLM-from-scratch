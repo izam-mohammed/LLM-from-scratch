{
 "cells": [
  {
   "cell_type": "code",
   "execution_count": 3,
   "metadata": {},
   "outputs": [],
   "source": [
    "import math\n",
    "import numpy as np\n",
    "import matplotlib.pyplot as plt\n",
    "%matplotlib inline"
   ]
  },
  {
   "cell_type": "code",
   "execution_count": 4,
   "metadata": {},
   "outputs": [],
   "source": [
    "def f(x):\n",
    "    return 3*x**2 - 4*x + 5"
   ]
  },
  {
   "cell_type": "code",
   "execution_count": 5,
   "metadata": {},
   "outputs": [
    {
     "data": {
      "text/plain": [
       "20.0"
      ]
     },
     "execution_count": 5,
     "metadata": {},
     "output_type": "execute_result"
    }
   ],
   "source": [
    "f(3.0)"
   ]
  },
  {
   "cell_type": "code",
   "execution_count": 6,
   "metadata": {},
   "outputs": [
    {
     "data": {
      "text/plain": [
       "array([-5.  , -4.75, -4.5 , -4.25, -4.  , -3.75, -3.5 , -3.25, -3.  ,\n",
       "       -2.75, -2.5 , -2.25, -2.  , -1.75, -1.5 , -1.25, -1.  , -0.75,\n",
       "       -0.5 , -0.25,  0.  ,  0.25,  0.5 ,  0.75,  1.  ,  1.25,  1.5 ,\n",
       "        1.75,  2.  ,  2.25,  2.5 ,  2.75,  3.  ,  3.25,  3.5 ,  3.75,\n",
       "        4.  ,  4.25,  4.5 ,  4.75])"
      ]
     },
     "execution_count": 6,
     "metadata": {},
     "output_type": "execute_result"
    }
   ],
   "source": [
    "xs = np.arange(-5, 5, 0.25)\n",
    "xs"
   ]
  },
  {
   "cell_type": "code",
   "execution_count": 8,
   "metadata": {},
   "outputs": [
    {
     "data": {
      "text/plain": [
       "array([100.    ,  91.6875,  83.75  ,  76.1875,  69.    ,  62.1875,\n",
       "        55.75  ,  49.6875,  44.    ,  38.6875,  33.75  ,  29.1875,\n",
       "        25.    ,  21.1875,  17.75  ,  14.6875,  12.    ,   9.6875,\n",
       "         7.75  ,   6.1875,   5.    ,   4.1875,   3.75  ,   3.6875,\n",
       "         4.    ,   4.6875,   5.75  ,   7.1875,   9.    ,  11.1875,\n",
       "        13.75  ,  16.6875,  20.    ,  23.6875,  27.75  ,  32.1875,\n",
       "        37.    ,  42.1875,  47.75  ,  53.6875])"
      ]
     },
     "execution_count": 8,
     "metadata": {},
     "output_type": "execute_result"
    }
   ],
   "source": [
    "ys = f(xs)\n",
    "ys"
   ]
  },
  {
   "cell_type": "code",
   "execution_count": 10,
   "metadata": {},
   "outputs": [
    {
     "data": {
      "text/plain": [
       "[<matplotlib.lines.Line2D at 0x7a0b993325f0>]"
      ]
     },
     "execution_count": 10,
     "metadata": {},
     "output_type": "execute_result"
    },
    {
     "data": {
      "image/png": "[encoded data removed]",
      "text/plain": [
       "<Figure size 640x480 with 1 Axes>"
      ]
     },
     "metadata": {},
     "output_type": "display_data"
    }
   ],
   "source": [
    "# plotting it\n",
    "\n",
    "plt.plot(xs, ys)"
   ]
  },
  {
   "cell_type": "code",
   "execution_count": 13,
   "metadata": {},
   "outputs": [
    {
     "data": {
      "text/plain": [
       "14.00000009255109"
      ]
     },
     "execution_count": 13,
     "metadata": {},
     "output_type": "execute_result"
    }
   ],
   "source": [
    "# calculating derivative\n",
    "\n",
    "h = 0.00000001\n",
    "x = 3.0\n",
    "slop = (f(x + h) - f(x))/ h\n",
    "slop"
   ]
  },
  {
   "cell_type": "code",
   "execution_count": 14,
   "metadata": {},
   "outputs": [
    {
     "data": {
      "text/plain": [
       "0.0"
      ]
     },
     "execution_count": 14,
     "metadata": {},
     "output_type": "execute_result"
    }
   ],
   "source": [
    "# what if the x is 2/3\n",
    "\n",
    "x = 2 / 3\n",
    "(f(x + h) - f(x))/ h"
   ]
  },
  {
   "cell_type": "markdown",
   "metadata": {},
   "source": [
    "it is the lower point in that matplot picture"
   ]
  },
  {
   "cell_type": "code",
   "execution_count": 16,
   "metadata": {},
   "outputs": [
    {
     "data": {
      "text/plain": [
       "4.0"
      ]
     },
     "execution_count": 16,
     "metadata": {},
     "output_type": "execute_result"
    }
   ],
   "source": [
    "# goin to a bit more complex one\n",
    "\n",
    "a = 2.0\n",
    "b = -3.0\n",
    "c = 10.0\n",
    "d = a * b + c\n",
    "d"
   ]
  },
  {
   "cell_type": "code",
   "execution_count": 19,
   "metadata": {},
   "outputs": [
    {
     "name": "stdout",
     "output_type": "stream",
     "text": [
      "d1 4.0\n",
      "d2 3.999699999999999\n",
      "slope -3.000000000010772\n"
     ]
    }
   ],
   "source": [
    "h = 0.0001\n",
    "\n",
    "# inputs\n",
    "a = 2.0\n",
    "b = -3.0\n",
    "c = 10.0\n",
    "\n",
    "d1 = a*b + c\n",
    "a += h\n",
    "d2 = a * b + c\n",
    "\n",
    "print(\"d1\", d1)\n",
    "print(\"d2\", d2)\n",
    "print(\"slope\", (d2 - d1)/h)"
   ]
  },
  {
   "cell_type": "code",
   "execution_count": 20,
   "metadata": {},
   "outputs": [
    {
     "name": "stdout",
     "output_type": "stream",
     "text": [
      "d1 4.0\n",
      "d2 4.0002\n",
      "slope 2.0000000000042206\n"
     ]
    }
   ],
   "source": [
    "# what if we bump the 'b' little bit\n",
    "\n",
    "h = 0.0001\n",
    "\n",
    "# inputs\n",
    "a = 2.0\n",
    "b = -3.0\n",
    "c = 10.0\n",
    "\n",
    "d1 = a * b + c\n",
    "b += h\n",
    "d2 = a * b + c\n",
    "\n",
    "print(\"d1\", d1)\n",
    "print(\"d2\", d2)\n",
    "print(\"slope\", (d2 - d1)/h)"
   ]
  },
  {
   "cell_type": "code",
   "execution_count": 21,
   "metadata": {},
   "outputs": [
    {
     "name": "stdout",
     "output_type": "stream",
     "text": [
      "d1 4.0\n",
      "d2 4.0001\n",
      "slope 0.9999999999976694\n"
     ]
    }
   ],
   "source": [
    "# what if we bumpt the 'c' little bit\n",
    "\n",
    "h = 0.0001\n",
    "\n",
    "# inputs\n",
    "a = 2.0\n",
    "b = -3.0\n",
    "c = 10.0\n",
    "\n",
    "d1 = a * b + c\n",
    "c += h\n",
    "d2 = a * b + c\n",
    "\n",
    "print(\"d1\", d1)\n",
    "print(\"d2\", d2)\n",
    "print(\"slope\", (d2 - d1)/h)"
   ]
  },
  {
   "cell_type": "code",
   "execution_count": 25,
   "metadata": {},
   "outputs": [],
   "source": [
    "# create value object\n",
    "\n",
    "class Value:\n",
    "    def __init__(self, data) -> None:\n",
    "        self.data = data\n",
    "        \n",
    "    def __repr__(self) -> str:\n",
    "        return f\"Value(data={self.data})\"\n",
    "    \n",
    "    def __add__(self, other):\n",
    "        out = Value(self.data + other.data)\n",
    "        return out\n",
    "    \n",
    "    def __mul__(self, other):\n",
    "        out = Value(self.data * other.data)\n",
    "        return out"
   ]
  },
  {
   "cell_type": "code",
   "execution_count": 26,
   "metadata": {},
   "outputs": [
    {
     "data": {
      "text/plain": [
       "Value(data=5.0)"
      ]
     },
     "execution_count": 26,
     "metadata": {},
     "output_type": "execute_result"
    }
   ],
   "source": [
    "a = Value(2.0)\n",
    "b = Value(3.0)\n",
    "a + b"
   ]
  },
  {
   "cell_type": "code",
   "execution_count": 27,
   "metadata": {},
   "outputs": [
    {
     "data": {
      "text/plain": [
       "Value(data=6.0)"
      ]
     },
     "execution_count": 27,
     "metadata": {},
     "output_type": "execute_result"
    }
   ],
   "source": [
    "a * b"
   ]
  },
  {
   "cell_type": "code",
   "execution_count": 28,
   "metadata": {},
   "outputs": [],
   "source": [
    "# a slightly more complex one\n",
    "\n",
    "class Value:\n",
    "    def __init__(self, data, _children=()) -> None:\n",
    "        self.data = data\n",
    "        self._prev = set(_children)\n",
    "\n",
    "    def __repr__(self) -> str:\n",
    "        return f\"Value(data={self.data})\"\n",
    "\n",
    "    def __add__(self, other: Value):\n",
    "        out = Value(self.data + other.data, _children=(self, other))\n",
    "        return out\n",
    "\n",
    "    def __mul__(self, other: Value):\n",
    "        out = Value(self.data * other.data, _children=(self, other))\n",
    "        return out"
   ]
  },
  {
   "cell_type": "code",
   "execution_count": 29,
   "metadata": {},
   "outputs": [
    {
     "data": {
      "text/plain": [
       "Value(data=4.0)"
      ]
     },
     "execution_count": 29,
     "metadata": {},
     "output_type": "execute_result"
    }
   ],
   "source": [
    "a = Value(2.0)\n",
    "b = Value(-3.0)\n",
    "c = Value(10.0)\n",
    "d = a*b + c # internally it will be like this '(a.__mul__(b)).__add__(c)'\n",
    "d"
   ]
  },
  {
   "cell_type": "code",
   "execution_count": 30,
   "metadata": {},
   "outputs": [
    {
     "data": {
      "text/plain": [
       "{Value(data=-6.0), Value(data=10.0)}"
      ]
     },
     "execution_count": 30,
     "metadata": {},
     "output_type": "execute_result"
    }
   ],
   "source": [
    "d._prev"
   ]
  },
  {
   "cell_type": "code",
   "execution_count": 31,
   "metadata": {},
   "outputs": [],
   "source": [
    "# now we know the previous value, but don't know the operation created that value\n"
   ]
  },
  {
   "cell_type": "code",
   "execution_count": 32,
   "metadata": {},
   "outputs": [],
   "source": [
    "class Value:\n",
    "    def __init__(self, data, _children=(), _op='') -> None:\n",
    "        self.data = data\n",
    "        self._prev = set(_children)\n",
    "        self._op = _op\n",
    "\n",
    "    def __repr__(self) -> str:\n",
    "        return f\"Value(data={self.data})\"\n",
    "\n",
    "    def __add__(self, other: Value):\n",
    "        out = Value(self.data + other.data, _children=(self, other), _op=\"+\")\n",
    "        return out\n",
    "\n",
    "    def __mul__(self, other: Value):\n",
    "        out = Value(self.data * other.data, _children=(self, other), _op=\"*\")\n",
    "        return out"
   ]
  },
  {
   "cell_type": "code",
   "execution_count": 33,
   "metadata": {},
   "outputs": [
    {
     "data": {
      "text/plain": [
       "Value(data=4.0)"
      ]
     },
     "execution_count": 33,
     "metadata": {},
     "output_type": "execute_result"
    }
   ],
   "source": [
    "# same calculations\n",
    "\n",
    "a = Value(2.0)\n",
    "b = Value(-3.0)\n",
    "c = Value(10.0)\n",
    "d = a*b + c # internally it will be like this '(a.__mul__(b)).__add__(c)'\n",
    "d"
   ]
  },
  {
   "cell_type": "code",
   "execution_count": 34,
   "metadata": {},
   "outputs": [
    {
     "data": {
      "text/plain": [
       "{Value(data=-6.0), Value(data=10.0)}"
      ]
     },
     "execution_count": 34,
     "metadata": {},
     "output_type": "execute_result"
    }
   ],
   "source": [
    "d._prev"
   ]
  },
  {
   "cell_type": "code",
   "execution_count": 35,
   "metadata": {},
   "outputs": [
    {
     "data": {
      "text/plain": [
       "'+'"
      ]
     },
     "execution_count": 35,
     "metadata": {},
     "output_type": "execute_result"
    }
   ],
   "source": [
    "d._op"
   ]
  },
  {
   "cell_type": "code",
   "execution_count": 55,
   "metadata": {},
   "outputs": [],
   "source": [
    "# let's visualize the things\n",
    "\n",
    "from graphviz import Digraph\n",
    "\n",
    "def trace(root):\n",
    "  # builds a set of all nodes and edges in a graph\n",
    "  nodes, edges = set(), set()\n",
    "  def build(v):\n",
    "    if v not in nodes:\n",
    "      nodes.add(v)\n",
    "      for child in v._prev:\n",
    "        edges.add((child, v))\n",
    "        build(child)\n",
    "  build(root)\n",
    "  return nodes, edges\n",
    "\n",
    "def draw_dot(root):\n",
    "  dot = Digraph(format='svg', graph_attr={'rankdir': 'LR'}) # LR = left to right\n",
    "  \n",
    "  nodes, edges = trace(root)\n",
    "  for n in nodes:\n",
    "    uid = str(id(n))\n",
    "    # for any value in the graph, create a rectangular ('record') node for it\n",
    "    dot.node(name = uid, label = \"{ data %.4f }\" % (n.data, ), shape='record')\n",
    "    if n._op:\n",
    "      # if this value is a result of some operation, create an op node for it\n",
    "      dot.node(name = uid + n._op, label = n._op)\n",
    "      # and connect this node to it\n",
    "      dot.edge(uid + n._op, uid)\n",
    "\n",
    "  for n1, n2 in edges:\n",
    "    # connect n1 to the op node of n2\n",
    "    dot.edge(str(id(n1)), str(id(n2)) + n2._op)\n",
    "\n",
    "  return dot"
   ]
  },
  {
   "cell_type": "code",
   "execution_count": null,
   "metadata": {},
   "outputs": [
    {
     "data": {
      "image/svg+xml": [
       "<?xml version=\"1.0\" encoding=\"UTF-8\" standalone=\"no\"?>\n",
       "<!DOCTYPE svg PUBLIC \"-//W3C//DTD SVG 1.1//EN\"\n",
       " \"http://www.w3.org/Graphics/SVG/1.1/DTD/svg11.dtd\">\n",
       "<!-- Generated by graphviz version 2.43.0 (0)\n",
       " -->\n",
       "<!-- Title: %3 Pages: 1 -->\n",
       "<svg width=\"580pt\" height=\"128pt\"\n",
       " viewBox=\"0.00 0.00 580.00 128.00\" xmlns=\"http://www.w3.org/2000/svg\" xmlns:xlink=\"http://www.w3.org/1999/xlink\">\n",
       "<g id=\"graph0\" class=\"graph\" transform=\"scale(1 1) rotate(0) translate(4 124)\">\n",
       "<title>%3</title>\n",
       "<polygon fill=\"white\" stroke=\"transparent\" points=\"-4,4 -4,-124 576,-124 576,4 -4,4\"/>\n",
       "<!-- 134190189451808 -->\n",
       "<g id=\"node1\" class=\"node\">\n",
       "<title>134190189451808</title>\n",
       "<polygon fill=\"none\" stroke=\"black\" points=\"2.5,-83.5 2.5,-119.5 104.5,-119.5 104.5,-83.5 2.5,-83.5\"/>\n",
       "<text text-anchor=\"middle\" x=\"53.5\" y=\"-97.8\" font-family=\"Times,serif\" font-size=\"14.00\">data 2.0000</text>\n",
       "</g>\n",
       "<!-- 134190189451760* -->\n",
       "<g id=\"node7\" class=\"node\">\n",
       "<title>134190189451760*</title>\n",
       "<ellipse fill=\"none\" stroke=\"black\" cx=\"170\" cy=\"-73.5\" rx=\"27\" ry=\"18\"/>\n",
       "<text text-anchor=\"middle\" x=\"170\" y=\"-69.8\" font-family=\"Times,serif\" font-size=\"14.00\">*</text>\n",
       "</g>\n",
       "<!-- 134190189451808&#45;&gt;134190189451760* -->\n",
       "<g id=\"edge6\" class=\"edge\">\n",
       "<title>134190189451808&#45;&gt;134190189451760*</title>\n",
       "<path fill=\"none\" stroke=\"black\" d=\"M104.72,-89.22C114.78,-86.76 125.14,-84.23 134.52,-81.93\"/>\n",
       "<polygon fill=\"black\" stroke=\"black\" points=\"135.37,-85.33 144.25,-79.55 133.71,-78.53 135.37,-85.33\"/>\n",
       "</g>\n",
       "<!-- 134190189452624 -->\n",
       "<g id=\"node2\" class=\"node\">\n",
       "<title>134190189452624</title>\n",
       "<polygon fill=\"none\" stroke=\"black\" points=\"233,-0.5 233,-36.5 344,-36.5 344,-0.5 233,-0.5\"/>\n",
       "<text text-anchor=\"middle\" x=\"288.5\" y=\"-14.8\" font-family=\"Times,serif\" font-size=\"14.00\">data 10.0000</text>\n",
       "</g>\n",
       "<!-- 134190189446624+ -->\n",
       "<g id=\"node5\" class=\"node\">\n",
       "<title>134190189446624+</title>\n",
       "<ellipse fill=\"none\" stroke=\"black\" cx=\"407\" cy=\"-45.5\" rx=\"27\" ry=\"18\"/>\n",
       "<text text-anchor=\"middle\" x=\"407\" y=\"-41.8\" font-family=\"Times,serif\" font-size=\"14.00\">+</text>\n",
       "</g>\n",
       "<!-- 134190189452624&#45;&gt;134190189446624+ -->\n",
       "<g id=\"edge4\" class=\"edge\">\n",
       "<title>134190189452624&#45;&gt;134190189446624+</title>\n",
       "<path fill=\"none\" stroke=\"black\" d=\"M344.34,-31.21C353.57,-33.35 362.91,-35.51 371.44,-37.49\"/>\n",
       "<polygon fill=\"black\" stroke=\"black\" points=\"370.85,-40.95 381.38,-39.79 372.43,-34.13 370.85,-40.95\"/>\n",
       "</g>\n",
       "<!-- 134190189453776 -->\n",
       "<g id=\"node3\" class=\"node\">\n",
       "<title>134190189453776</title>\n",
       "<polygon fill=\"none\" stroke=\"black\" points=\"0,-28.5 0,-64.5 107,-64.5 107,-28.5 0,-28.5\"/>\n",
       "<text text-anchor=\"middle\" x=\"53.5\" y=\"-42.8\" font-family=\"Times,serif\" font-size=\"14.00\">data &#45;3.0000</text>\n",
       "</g>\n",
       "<!-- 134190189453776&#45;&gt;134190189451760* -->\n",
       "<g id=\"edge3\" class=\"edge\">\n",
       "<title>134190189453776&#45;&gt;134190189451760*</title>\n",
       "<path fill=\"none\" stroke=\"black\" d=\"M107.06,-58.89C116.25,-61.06 125.61,-63.27 134.17,-65.29\"/>\n",
       "<polygon fill=\"black\" stroke=\"black\" points=\"133.62,-68.75 144.16,-67.64 135.23,-61.94 133.62,-68.75\"/>\n",
       "</g>\n",
       "<!-- 134190189446624 -->\n",
       "<g id=\"node4\" class=\"node\">\n",
       "<title>134190189446624</title>\n",
       "<polygon fill=\"none\" stroke=\"black\" points=\"470,-27.5 470,-63.5 572,-63.5 572,-27.5 470,-27.5\"/>\n",
       "<text text-anchor=\"middle\" x=\"521\" y=\"-41.8\" font-family=\"Times,serif\" font-size=\"14.00\">data 4.0000</text>\n",
       "</g>\n",
       "<!-- 134190189446624+&#45;&gt;134190189446624 -->\n",
       "<g id=\"edge1\" class=\"edge\">\n",
       "<title>134190189446624+&#45;&gt;134190189446624</title>\n",
       "<path fill=\"none\" stroke=\"black\" d=\"M434.26,-45.5C441.96,-45.5 450.73,-45.5 459.64,-45.5\"/>\n",
       "<polygon fill=\"black\" stroke=\"black\" points=\"459.71,-49 469.71,-45.5 459.71,-42 459.71,-49\"/>\n",
       "</g>\n",
       "<!-- 134190189451760 -->\n",
       "<g id=\"node6\" class=\"node\">\n",
       "<title>134190189451760</title>\n",
       "<polygon fill=\"none\" stroke=\"black\" points=\"235,-55.5 235,-91.5 342,-91.5 342,-55.5 235,-55.5\"/>\n",
       "<text text-anchor=\"middle\" x=\"288.5\" y=\"-69.8\" font-family=\"Times,serif\" font-size=\"14.00\">data &#45;6.0000</text>\n",
       "</g>\n",
       "<!-- 134190189451760&#45;&gt;134190189446624+ -->\n",
       "<g id=\"edge5\" class=\"edge\">\n",
       "<title>134190189451760&#45;&gt;134190189446624+</title>\n",
       "<path fill=\"none\" stroke=\"black\" d=\"M342.3,-60.81C352.18,-58.43 362.28,-56.01 371.43,-53.81\"/>\n",
       "<polygon fill=\"black\" stroke=\"black\" points=\"372.41,-57.17 381.31,-51.43 370.77,-50.37 372.41,-57.17\"/>\n",
       "</g>\n",
       "<!-- 134190189451760*&#45;&gt;134190189451760 -->\n",
       "<g id=\"edge2\" class=\"edge\">\n",
       "<title>134190189451760*&#45;&gt;134190189451760</title>\n",
       "<path fill=\"none\" stroke=\"black\" d=\"M197.14,-73.5C205.41,-73.5 214.93,-73.5 224.62,-73.5\"/>\n",
       "<polygon fill=\"black\" stroke=\"black\" points=\"224.74,-77 234.74,-73.5 224.74,-70 224.74,-77\"/>\n",
       "</g>\n",
       "</g>\n",
       "</svg>\n"
      ],
      "text/plain": [
       "<graphviz.graphs.Digraph at 0x7a0b96932f80>"
      ]
     },
     "execution_count": 56,
     "metadata": {},
     "output_type": "execute_result"
    }
   ],
   "source": [
    "draw_dot(d)"
   ]
  },
  {
   "cell_type": "code",
   "execution_count": 61,
   "metadata": {},
   "outputs": [],
   "source": [
    "# adding a label into it\n",
    "\n",
    "class Value:\n",
    "    def __init__(self, data, _children=(), _op='', label='') -> None:\n",
    "        self.data = data\n",
    "        self._prev = set(_children)\n",
    "        self._op = _op\n",
    "        self.label = label\n",
    "\n",
    "    def __repr__(self) -> str:\n",
    "        return f\"Value(data={self.data})\"\n",
    "\n",
    "    def __add__(self, other: Value):\n",
    "        out = Value(self.data + other.data, _children=(self, other), _op=\"+\")\n",
    "        return out\n",
    "\n",
    "    def __mul__(self, other: Value):\n",
    "        out = Value(self.data * other.data, _children=(self, other), _op=\"*\")\n",
    "        return out"
   ]
  },
  {
   "cell_type": "code",
   "execution_count": 62,
   "metadata": {},
   "outputs": [
    {
     "data": {
      "text/plain": [
       "Value(data=4.0)"
      ]
     },
     "execution_count": 62,
     "metadata": {},
     "output_type": "execute_result"
    }
   ],
   "source": [
    "a = Value(2.0, label='a')\n",
    "b = Value(-3.0, label='b')\n",
    "c = Value(10.0, label='c')\n",
    "e = a*b ; e.label = \"e\"\n",
    "d = e + c ; d.label = \"d\"\n",
    "d"
   ]
  },
  {
   "cell_type": "code",
   "execution_count": 63,
   "metadata": {},
   "outputs": [],
   "source": [
    "# slight modification in here\n",
    "\n",
    "from graphviz import Digraph\n",
    "\n",
    "def trace(root):\n",
    "  # builds a set of all nodes and edges in a graph\n",
    "  nodes, edges = set(), set()\n",
    "  def build(v):\n",
    "    if v not in nodes:\n",
    "      nodes.add(v)\n",
    "      for child in v._prev:\n",
    "        edges.add((child, v))\n",
    "        build(child)\n",
    "  build(root)\n",
    "  return nodes, edges\n",
    "\n",
    "def draw_dot(root):\n",
    "  dot = Digraph(format='svg', graph_attr={'rankdir': 'LR'}) # LR = left to right\n",
    "  \n",
    "  nodes, edges = trace(root)\n",
    "  for n in nodes:\n",
    "    uid = str(id(n))\n",
    "    # for any value in the graph, create a rectangular ('record') node for it\n",
    "    dot.node(name = uid, label = \"{ %s | data %.4f }\" % (n.label, n.data, ), shape='record')\n",
    "    if n._op:\n",
    "      # if this value is a result of some operation, create an op node for it\n",
    "      dot.node(name = uid + n._op, label = n._op)\n",
    "      # and connect this node to it\n",
    "      dot.edge(uid + n._op, uid)\n",
    "\n",
    "  for n1, n2 in edges:\n",
    "    # connect n1 to the op node of n2\n",
    "    dot.edge(str(id(n1)), str(id(n2)) + n2._op)\n",
    "\n",
    "  return dot"
   ]
  },
  {
   "cell_type": "code",
   "execution_count": 64,
   "metadata": {},
   "outputs": [
    {
     "data": {
      "image/svg+xml": [
       "<?xml version=\"1.0\" encoding=\"UTF-8\" standalone=\"no\"?>\n",
       "<!DOCTYPE svg PUBLIC \"-//W3C//DTD SVG 1.1//EN\"\n",
       " \"http://www.w3.org/Graphics/SVG/1.1/DTD/svg11.dtd\">\n",
       "<!-- Generated by graphviz version 2.43.0 (0)\n",
       " -->\n",
       "<!-- Title: %3 Pages: 1 -->\n",
       "<svg width=\"656pt\" height=\"127pt\"\n",
       " viewBox=\"0.00 0.00 656.00 127.00\" xmlns=\"http://www.w3.org/2000/svg\" xmlns:xlink=\"http://www.w3.org/1999/xlink\">\n",
       "<g id=\"graph0\" class=\"graph\" transform=\"scale(1 1) rotate(0) translate(4 123)\">\n",
       "<title>%3</title>\n",
       "<polygon fill=\"white\" stroke=\"transparent\" points=\"-4,4 -4,-123 652,-123 652,4 -4,4\"/>\n",
       "<!-- 134191250352848 -->\n",
       "<g id=\"node1\" class=\"node\">\n",
       "<title>134191250352848</title>\n",
       "<polygon fill=\"none\" stroke=\"black\" points=\"259,-82.5 259,-118.5 394,-118.5 394,-82.5 259,-82.5\"/>\n",
       "<text text-anchor=\"middle\" x=\"271\" y=\"-96.8\" font-family=\"Times,serif\" font-size=\"14.00\">c</text>\n",
       "<polyline fill=\"none\" stroke=\"black\" points=\"283,-82.5 283,-118.5 \"/>\n",
       "<text text-anchor=\"middle\" x=\"338.5\" y=\"-96.8\" font-family=\"Times,serif\" font-size=\"14.00\">data 10.0000</text>\n",
       "</g>\n",
       "<!-- 134190182184848+ -->\n",
       "<g id=\"node7\" class=\"node\">\n",
       "<title>134190182184848+</title>\n",
       "<ellipse fill=\"none\" stroke=\"black\" cx=\"457\" cy=\"-72.5\" rx=\"27\" ry=\"18\"/>\n",
       "<text text-anchor=\"middle\" x=\"457\" y=\"-68.8\" font-family=\"Times,serif\" font-size=\"14.00\">+</text>\n",
       "</g>\n",
       "<!-- 134191250352848&#45;&gt;134190182184848+ -->\n",
       "<g id=\"edge5\" class=\"edge\">\n",
       "<title>134191250352848&#45;&gt;134190182184848+</title>\n",
       "<path fill=\"none\" stroke=\"black\" d=\"M394.01,-86.01C403.41,-83.96 412.75,-81.92 421.22,-80.08\"/>\n",
       "<polygon fill=\"black\" stroke=\"black\" points=\"422.04,-83.48 431.06,-77.93 420.55,-76.64 422.04,-83.48\"/>\n",
       "</g>\n",
       "<!-- 134191250347232 -->\n",
       "<g id=\"node2\" class=\"node\">\n",
       "<title>134191250347232</title>\n",
       "<polygon fill=\"none\" stroke=\"black\" points=\"0,-55.5 0,-91.5 133,-91.5 133,-55.5 0,-55.5\"/>\n",
       "<text text-anchor=\"middle\" x=\"13\" y=\"-69.8\" font-family=\"Times,serif\" font-size=\"14.00\">b</text>\n",
       "<polyline fill=\"none\" stroke=\"black\" points=\"26,-55.5 26,-91.5 \"/>\n",
       "<text text-anchor=\"middle\" x=\"79.5\" y=\"-69.8\" font-family=\"Times,serif\" font-size=\"14.00\">data &#45;3.0000</text>\n",
       "</g>\n",
       "<!-- 134190182180624* -->\n",
       "<g id=\"node4\" class=\"node\">\n",
       "<title>134190182180624*</title>\n",
       "<ellipse fill=\"none\" stroke=\"black\" cx=\"196\" cy=\"-45.5\" rx=\"27\" ry=\"18\"/>\n",
       "<text text-anchor=\"middle\" x=\"196\" y=\"-41.8\" font-family=\"Times,serif\" font-size=\"14.00\">*</text>\n",
       "</g>\n",
       "<!-- 134191250347232&#45;&gt;134190182180624* -->\n",
       "<g id=\"edge3\" class=\"edge\">\n",
       "<title>134191250347232&#45;&gt;134190182180624*</title>\n",
       "<path fill=\"none\" stroke=\"black\" d=\"M133.12,-59.09C142.49,-57.03 151.8,-54.99 160.25,-53.13\"/>\n",
       "<polygon fill=\"black\" stroke=\"black\" points=\"161.06,-56.54 170.08,-50.97 159.56,-49.7 161.06,-56.54\"/>\n",
       "</g>\n",
       "<!-- 134190182180624 -->\n",
       "<g id=\"node3\" class=\"node\">\n",
       "<title>134190182180624</title>\n",
       "<polygon fill=\"none\" stroke=\"black\" points=\"260.5,-27.5 260.5,-63.5 392.5,-63.5 392.5,-27.5 260.5,-27.5\"/>\n",
       "<text text-anchor=\"middle\" x=\"273\" y=\"-41.8\" font-family=\"Times,serif\" font-size=\"14.00\">e</text>\n",
       "<polyline fill=\"none\" stroke=\"black\" points=\"285.5,-27.5 285.5,-63.5 \"/>\n",
       "<text text-anchor=\"middle\" x=\"339\" y=\"-41.8\" font-family=\"Times,serif\" font-size=\"14.00\">data &#45;6.0000</text>\n",
       "</g>\n",
       "<!-- 134190182180624&#45;&gt;134190182184848+ -->\n",
       "<g id=\"edge6\" class=\"edge\">\n",
       "<title>134190182180624&#45;&gt;134190182184848+</title>\n",
       "<path fill=\"none\" stroke=\"black\" d=\"M392.5,-59.16C402.35,-61.23 412.17,-63.29 421.04,-65.15\"/>\n",
       "<polygon fill=\"black\" stroke=\"black\" points=\"420.46,-68.61 430.96,-67.24 421.9,-61.76 420.46,-68.61\"/>\n",
       "</g>\n",
       "<!-- 134190182180624*&#45;&gt;134190182180624 -->\n",
       "<g id=\"edge1\" class=\"edge\">\n",
       "<title>134190182180624*&#45;&gt;134190182180624</title>\n",
       "<path fill=\"none\" stroke=\"black\" d=\"M223,-45.5C231.11,-45.5 240.5,-45.5 250.24,-45.5\"/>\n",
       "<polygon fill=\"black\" stroke=\"black\" points=\"250.47,-49 260.47,-45.5 250.47,-42 250.47,-49\"/>\n",
       "</g>\n",
       "<!-- 134190182181776 -->\n",
       "<g id=\"node5\" class=\"node\">\n",
       "<title>134190182181776</title>\n",
       "<polygon fill=\"none\" stroke=\"black\" points=\"3,-0.5 3,-36.5 130,-36.5 130,-0.5 3,-0.5\"/>\n",
       "<text text-anchor=\"middle\" x=\"15.5\" y=\"-14.8\" font-family=\"Times,serif\" font-size=\"14.00\">a</text>\n",
       "<polyline fill=\"none\" stroke=\"black\" points=\"28,-0.5 28,-36.5 \"/>\n",
       "<text text-anchor=\"middle\" x=\"79\" y=\"-14.8\" font-family=\"Times,serif\" font-size=\"14.00\">data 2.0000</text>\n",
       "</g>\n",
       "<!-- 134190182181776&#45;&gt;134190182180624* -->\n",
       "<g id=\"edge4\" class=\"edge\">\n",
       "<title>134190182181776&#45;&gt;134190182180624*</title>\n",
       "<path fill=\"none\" stroke=\"black\" d=\"M130.13,-31.76C140.38,-33.93 150.67,-36.11 159.93,-38.07\"/>\n",
       "<polygon fill=\"black\" stroke=\"black\" points=\"159.4,-41.54 169.91,-40.19 160.85,-34.69 159.4,-41.54\"/>\n",
       "</g>\n",
       "<!-- 134190182184848 -->\n",
       "<g id=\"node6\" class=\"node\">\n",
       "<title>134190182184848</title>\n",
       "<polygon fill=\"none\" stroke=\"black\" points=\"520,-54.5 520,-90.5 648,-90.5 648,-54.5 520,-54.5\"/>\n",
       "<text text-anchor=\"middle\" x=\"533\" y=\"-68.8\" font-family=\"Times,serif\" font-size=\"14.00\">d</text>\n",
       "<polyline fill=\"none\" stroke=\"black\" points=\"546,-54.5 546,-90.5 \"/>\n",
       "<text text-anchor=\"middle\" x=\"597\" y=\"-68.8\" font-family=\"Times,serif\" font-size=\"14.00\">data 4.0000</text>\n",
       "</g>\n",
       "<!-- 134190182184848+&#45;&gt;134190182184848 -->\n",
       "<g id=\"edge2\" class=\"edge\">\n",
       "<title>134190182184848+&#45;&gt;134190182184848</title>\n",
       "<path fill=\"none\" stroke=\"black\" d=\"M484.2,-72.5C491.8,-72.5 500.49,-72.5 509.49,-72.5\"/>\n",
       "<polygon fill=\"black\" stroke=\"black\" points=\"509.75,-76 519.75,-72.5 509.75,-69 509.75,-76\"/>\n",
       "</g>\n",
       "</g>\n",
       "</svg>\n"
      ],
      "text/plain": [
       "<graphviz.graphs.Digraph at 0x7a0b98ed3b80>"
      ]
     },
     "execution_count": 64,
     "metadata": {},
     "output_type": "execute_result"
    }
   ],
   "source": [
    "draw_dot(d) # now it have labels"
   ]
  },
  {
   "cell_type": "code",
   "execution_count": 65,
   "metadata": {},
   "outputs": [
    {
     "data": {
      "text/plain": [
       "Value(data=-8.0)"
      ]
     },
     "execution_count": 65,
     "metadata": {},
     "output_type": "execute_result"
    }
   ],
   "source": [
    "f = Value(-2.0, label='f')\n",
    "L = d * f ; L.label = \"L\"\n",
    "L"
   ]
  },
  {
   "cell_type": "code",
   "execution_count": 66,
   "metadata": {},
   "outputs": [
    {
     "data": {
      "image/svg+xml": [
       "<?xml version=\"1.0\" encoding=\"UTF-8\" standalone=\"no\"?>\n",
       "<!DOCTYPE svg PUBLIC \"-//W3C//DTD SVG 1.1//EN\"\n",
       " \"http://www.w3.org/Graphics/SVG/1.1/DTD/svg11.dtd\">\n",
       "<!-- Generated by graphviz version 2.43.0 (0)\n",
       " -->\n",
       "<!-- Title: %3 Pages: 1 -->\n",
       "<svg width=\"916pt\" height=\"128pt\"\n",
       " viewBox=\"0.00 0.00 916.00 128.00\" xmlns=\"http://www.w3.org/2000/svg\" xmlns:xlink=\"http://www.w3.org/1999/xlink\">\n",
       "<g id=\"graph0\" class=\"graph\" transform=\"scale(1 1) rotate(0) translate(4 124)\">\n",
       "<title>%3</title>\n",
       "<polygon fill=\"white\" stroke=\"transparent\" points=\"-4,4 -4,-124 912,-124 912,4 -4,4\"/>\n",
       "<!-- 134191250352848 -->\n",
       "<g id=\"node1\" class=\"node\">\n",
       "<title>134191250352848</title>\n",
       "<polygon fill=\"none\" stroke=\"black\" points=\"259,-83.5 259,-119.5 394,-119.5 394,-83.5 259,-83.5\"/>\n",
       "<text text-anchor=\"middle\" x=\"271\" y=\"-97.8\" font-family=\"Times,serif\" font-size=\"14.00\">c</text>\n",
       "<polyline fill=\"none\" stroke=\"black\" points=\"283,-83.5 283,-119.5 \"/>\n",
       "<text text-anchor=\"middle\" x=\"338.5\" y=\"-97.8\" font-family=\"Times,serif\" font-size=\"14.00\">data 10.0000</text>\n",
       "</g>\n",
       "<!-- 134190182184848+ -->\n",
       "<g id=\"node7\" class=\"node\">\n",
       "<title>134190182184848+</title>\n",
       "<ellipse fill=\"none\" stroke=\"black\" cx=\"457\" cy=\"-73.5\" rx=\"27\" ry=\"18\"/>\n",
       "<text text-anchor=\"middle\" x=\"457\" y=\"-69.8\" font-family=\"Times,serif\" font-size=\"14.00\">+</text>\n",
       "</g>\n",
       "<!-- 134191250352848&#45;&gt;134190182184848+ -->\n",
       "<g id=\"edge7\" class=\"edge\">\n",
       "<title>134191250352848&#45;&gt;134190182184848+</title>\n",
       "<path fill=\"none\" stroke=\"black\" d=\"M394.01,-87.01C403.41,-84.96 412.75,-82.92 421.22,-81.08\"/>\n",
       "<polygon fill=\"black\" stroke=\"black\" points=\"422.04,-84.48 431.06,-78.93 420.55,-77.64 422.04,-84.48\"/>\n",
       "</g>\n",
       "<!-- 134191250347232 -->\n",
       "<g id=\"node2\" class=\"node\">\n",
       "<title>134191250347232</title>\n",
       "<polygon fill=\"none\" stroke=\"black\" points=\"0,-56.5 0,-92.5 133,-92.5 133,-56.5 0,-56.5\"/>\n",
       "<text text-anchor=\"middle\" x=\"13\" y=\"-70.8\" font-family=\"Times,serif\" font-size=\"14.00\">b</text>\n",
       "<polyline fill=\"none\" stroke=\"black\" points=\"26,-56.5 26,-92.5 \"/>\n",
       "<text text-anchor=\"middle\" x=\"79.5\" y=\"-70.8\" font-family=\"Times,serif\" font-size=\"14.00\">data &#45;3.0000</text>\n",
       "</g>\n",
       "<!-- 134190182180624* -->\n",
       "<g id=\"node4\" class=\"node\">\n",
       "<title>134190182180624*</title>\n",
       "<ellipse fill=\"none\" stroke=\"black\" cx=\"196\" cy=\"-46.5\" rx=\"27\" ry=\"18\"/>\n",
       "<text text-anchor=\"middle\" x=\"196\" y=\"-42.8\" font-family=\"Times,serif\" font-size=\"14.00\">*</text>\n",
       "</g>\n",
       "<!-- 134191250347232&#45;&gt;134190182180624* -->\n",
       "<g id=\"edge9\" class=\"edge\">\n",
       "<title>134191250347232&#45;&gt;134190182180624*</title>\n",
       "<path fill=\"none\" stroke=\"black\" d=\"M133.12,-60.09C142.49,-58.03 151.8,-55.99 160.25,-54.13\"/>\n",
       "<polygon fill=\"black\" stroke=\"black\" points=\"161.06,-57.54 170.08,-51.97 159.56,-50.7 161.06,-57.54\"/>\n",
       "</g>\n",
       "<!-- 134190182180624 -->\n",
       "<g id=\"node3\" class=\"node\">\n",
       "<title>134190182180624</title>\n",
       "<polygon fill=\"none\" stroke=\"black\" points=\"260.5,-28.5 260.5,-64.5 392.5,-64.5 392.5,-28.5 260.5,-28.5\"/>\n",
       "<text text-anchor=\"middle\" x=\"273\" y=\"-42.8\" font-family=\"Times,serif\" font-size=\"14.00\">e</text>\n",
       "<polyline fill=\"none\" stroke=\"black\" points=\"285.5,-28.5 285.5,-64.5 \"/>\n",
       "<text text-anchor=\"middle\" x=\"339\" y=\"-42.8\" font-family=\"Times,serif\" font-size=\"14.00\">data &#45;6.0000</text>\n",
       "</g>\n",
       "<!-- 134190182180624&#45;&gt;134190182184848+ -->\n",
       "<g id=\"edge6\" class=\"edge\">\n",
       "<title>134190182180624&#45;&gt;134190182184848+</title>\n",
       "<path fill=\"none\" stroke=\"black\" d=\"M392.5,-60.16C402.35,-62.23 412.17,-64.29 421.04,-66.15\"/>\n",
       "<polygon fill=\"black\" stroke=\"black\" points=\"420.46,-69.61 430.96,-68.24 421.9,-62.76 420.46,-69.61\"/>\n",
       "</g>\n",
       "<!-- 134190182180624*&#45;&gt;134190182180624 -->\n",
       "<g id=\"edge1\" class=\"edge\">\n",
       "<title>134190182180624*&#45;&gt;134190182180624</title>\n",
       "<path fill=\"none\" stroke=\"black\" d=\"M223,-46.5C231.11,-46.5 240.5,-46.5 250.24,-46.5\"/>\n",
       "<polygon fill=\"black\" stroke=\"black\" points=\"250.47,-50 260.47,-46.5 250.47,-43 250.47,-50\"/>\n",
       "</g>\n",
       "<!-- 134190182181776 -->\n",
       "<g id=\"node5\" class=\"node\">\n",
       "<title>134190182181776</title>\n",
       "<polygon fill=\"none\" stroke=\"black\" points=\"3,-1.5 3,-37.5 130,-37.5 130,-1.5 3,-1.5\"/>\n",
       "<text text-anchor=\"middle\" x=\"15.5\" y=\"-15.8\" font-family=\"Times,serif\" font-size=\"14.00\">a</text>\n",
       "<polyline fill=\"none\" stroke=\"black\" points=\"28,-1.5 28,-37.5 \"/>\n",
       "<text text-anchor=\"middle\" x=\"79\" y=\"-15.8\" font-family=\"Times,serif\" font-size=\"14.00\">data 2.0000</text>\n",
       "</g>\n",
       "<!-- 134190182181776&#45;&gt;134190182180624* -->\n",
       "<g id=\"edge5\" class=\"edge\">\n",
       "<title>134190182181776&#45;&gt;134190182180624*</title>\n",
       "<path fill=\"none\" stroke=\"black\" d=\"M130.13,-32.76C140.38,-34.93 150.67,-37.11 159.93,-39.07\"/>\n",
       "<polygon fill=\"black\" stroke=\"black\" points=\"159.4,-42.54 169.91,-41.19 160.85,-35.69 159.4,-42.54\"/>\n",
       "</g>\n",
       "<!-- 134190182184848 -->\n",
       "<g id=\"node6\" class=\"node\">\n",
       "<title>134190182184848</title>\n",
       "<polygon fill=\"none\" stroke=\"black\" points=\"520.5,-55.5 520.5,-91.5 648.5,-91.5 648.5,-55.5 520.5,-55.5\"/>\n",
       "<text text-anchor=\"middle\" x=\"533.5\" y=\"-69.8\" font-family=\"Times,serif\" font-size=\"14.00\">d</text>\n",
       "<polyline fill=\"none\" stroke=\"black\" points=\"546.5,-55.5 546.5,-91.5 \"/>\n",
       "<text text-anchor=\"middle\" x=\"597.5\" y=\"-69.8\" font-family=\"Times,serif\" font-size=\"14.00\">data 4.0000</text>\n",
       "</g>\n",
       "<!-- 134190189461952* -->\n",
       "<g id=\"node9\" class=\"node\">\n",
       "<title>134190189461952*</title>\n",
       "<ellipse fill=\"none\" stroke=\"black\" cx=\"712\" cy=\"-45.5\" rx=\"27\" ry=\"18\"/>\n",
       "<text text-anchor=\"middle\" x=\"712\" y=\"-41.8\" font-family=\"Times,serif\" font-size=\"14.00\">*</text>\n",
       "</g>\n",
       "<!-- 134190182184848&#45;&gt;134190189461952* -->\n",
       "<g id=\"edge8\" class=\"edge\">\n",
       "<title>134190182184848&#45;&gt;134190189461952*</title>\n",
       "<path fill=\"none\" stroke=\"black\" d=\"M648.62,-59.42C658.08,-57.31 667.53,-55.2 676.1,-53.29\"/>\n",
       "<polygon fill=\"black\" stroke=\"black\" points=\"677.08,-56.65 686.08,-51.06 675.56,-49.82 677.08,-56.65\"/>\n",
       "</g>\n",
       "<!-- 134190182184848+&#45;&gt;134190182184848 -->\n",
       "<g id=\"edge2\" class=\"edge\">\n",
       "<title>134190182184848+&#45;&gt;134190182184848</title>\n",
       "<path fill=\"none\" stroke=\"black\" d=\"M484,-73.5C491.81,-73.5 500.78,-73.5 510.08,-73.5\"/>\n",
       "<polygon fill=\"black\" stroke=\"black\" points=\"510.25,-77 520.25,-73.5 510.25,-70 510.25,-77\"/>\n",
       "</g>\n",
       "<!-- 134190189461952 -->\n",
       "<g id=\"node8\" class=\"node\">\n",
       "<title>134190189461952</title>\n",
       "<polygon fill=\"none\" stroke=\"black\" points=\"775,-27.5 775,-63.5 908,-63.5 908,-27.5 775,-27.5\"/>\n",
       "<text text-anchor=\"middle\" x=\"788\" y=\"-41.8\" font-family=\"Times,serif\" font-size=\"14.00\">L</text>\n",
       "<polyline fill=\"none\" stroke=\"black\" points=\"801,-27.5 801,-63.5 \"/>\n",
       "<text text-anchor=\"middle\" x=\"854.5\" y=\"-41.8\" font-family=\"Times,serif\" font-size=\"14.00\">data &#45;8.0000</text>\n",
       "</g>\n",
       "<!-- 134190189461952*&#45;&gt;134190189461952 -->\n",
       "<g id=\"edge3\" class=\"edge\">\n",
       "<title>134190189461952*&#45;&gt;134190189461952</title>\n",
       "<path fill=\"none\" stroke=\"black\" d=\"M739.11,-45.5C746.81,-45.5 755.66,-45.5 764.85,-45.5\"/>\n",
       "<polygon fill=\"black\" stroke=\"black\" points=\"764.92,-49 774.92,-45.5 764.92,-42 764.92,-49\"/>\n",
       "</g>\n",
       "<!-- 134190189477840 -->\n",
       "<g id=\"node10\" class=\"node\">\n",
       "<title>134190189477840</title>\n",
       "<polygon fill=\"none\" stroke=\"black\" points=\"520,-0.5 520,-36.5 649,-36.5 649,-0.5 520,-0.5\"/>\n",
       "<text text-anchor=\"middle\" x=\"531\" y=\"-14.8\" font-family=\"Times,serif\" font-size=\"14.00\">f</text>\n",
       "<polyline fill=\"none\" stroke=\"black\" points=\"542,-0.5 542,-36.5 \"/>\n",
       "<text text-anchor=\"middle\" x=\"595.5\" y=\"-14.8\" font-family=\"Times,serif\" font-size=\"14.00\">data &#45;2.0000</text>\n",
       "</g>\n",
       "<!-- 134190189477840&#45;&gt;134190189461952* -->\n",
       "<g id=\"edge4\" class=\"edge\">\n",
       "<title>134190189477840&#45;&gt;134190189461952*</title>\n",
       "<path fill=\"none\" stroke=\"black\" d=\"M649.35,-32.24C658.65,-34.24 667.92,-36.23 676.33,-38.04\"/>\n",
       "<polygon fill=\"black\" stroke=\"black\" points=\"675.61,-41.47 686.13,-40.15 677.09,-34.62 675.61,-41.47\"/>\n",
       "</g>\n",
       "</g>\n",
       "</svg>\n"
      ],
      "text/plain": [
       "<graphviz.graphs.Digraph at 0x7a0b98ddca00>"
      ]
     },
     "execution_count": 66,
     "metadata": {},
     "output_type": "execute_result"
    }
   ],
   "source": [
    "draw_dot(L)"
   ]
  },
  {
   "cell_type": "markdown",
   "metadata": {},
   "source": [
    "Now we doing back propogation"
   ]
  },
  {
   "cell_type": "code",
   "execution_count": 67,
   "metadata": {},
   "outputs": [],
   "source": [
    "# for that we need to add grad into the value class\n",
    "\n",
    "class Value:\n",
    "    def __init__(self, data, _children=(), _op='', label='') -> None:\n",
    "        self.data = data\n",
    "        self.grad = 0\n",
    "        self._prev = set(_children)\n",
    "        self._op = _op\n",
    "        self.label = label\n",
    "\n",
    "    def __repr__(self) -> str:\n",
    "        return f\"Value(data={self.data})\"\n",
    "\n",
    "    def __add__(self, other: Value):\n",
    "        out = Value(self.data + other.data, _children=(self, other), _op=\"+\")\n",
    "        return out\n",
    "\n",
    "    def __mul__(self, other: Value):\n",
    "        out = Value(self.data * other.data, _children=(self, other), _op=\"*\")\n",
    "        return out"
   ]
  },
  {
   "cell_type": "code",
   "execution_count": 68,
   "metadata": {},
   "outputs": [],
   "source": [
    "# needed to change the graph function as well\n",
    "\n",
    "from graphviz import Digraph\n",
    "\n",
    "def trace(root):\n",
    "  # builds a set of all nodes and edges in a graph\n",
    "  nodes, edges = set(), set()\n",
    "  def build(v):\n",
    "    if v not in nodes:\n",
    "      nodes.add(v)\n",
    "      for child in v._prev:\n",
    "        edges.add((child, v))\n",
    "        build(child)\n",
    "  build(root)\n",
    "  return nodes, edges\n",
    "\n",
    "def draw_dot(root):\n",
    "  dot = Digraph(format='svg', graph_attr={'rankdir': 'LR'}) # LR = left to right\n",
    "  \n",
    "  nodes, edges = trace(root)\n",
    "  for n in nodes:\n",
    "    uid = str(id(n))\n",
    "    # for any value in the graph, create a rectangular ('record') node for it\n",
    "    dot.node(name = uid, label = \"{ %s | data %.4f | grad %.4f }\" % (n.label, n.data, n.grad), shape='record')\n",
    "    if n._op:\n",
    "      # if this value is a result of some operation, create an op node for it\n",
    "      dot.node(name = uid + n._op, label = n._op)\n",
    "      # and connect this node to it\n",
    "      dot.edge(uid + n._op, uid)\n",
    "\n",
    "  for n1, n2 in edges:\n",
    "    # connect n1 to the op node of n2\n",
    "    dot.edge(str(id(n1)), str(id(n2)) + n2._op)\n",
    "\n",
    "  return dot"
   ]
  },
  {
   "cell_type": "code",
   "execution_count": 69,
   "metadata": {},
   "outputs": [
    {
     "name": "stdout",
     "output_type": "stream",
     "text": [
      "d Value(data=4.0)\n",
      "L Value(data=-8.0)\n"
     ]
    }
   ],
   "source": [
    "# the math expressions\n",
    "\n",
    "a = Value(2.0, label='a')\n",
    "b = Value(-3.0, label='b')\n",
    "c = Value(10.0, label='c')\n",
    "e = a*b ; e.label = \"e\"\n",
    "d = e + c ; d.label = \"d\"\n",
    "print(\"d\", d)\n",
    "\n",
    "f = Value(-2.0, label='f')\n",
    "L = d * f ; L.label = \"L\"\n",
    "print(\"L\", L)"
   ]
  },
  {
   "cell_type": "code",
   "execution_count": 70,
   "metadata": {},
   "outputs": [
    {
     "data": {
      "image/svg+xml": [
       "<?xml version=\"1.0\" encoding=\"UTF-8\" standalone=\"no\"?>\n",
       "<!DOCTYPE svg PUBLIC \"-//W3C//DTD SVG 1.1//EN\"\n",
       " \"http://www.w3.org/Graphics/SVG/1.1/DTD/svg11.dtd\">\n",
       "<!-- Generated by graphviz version 2.43.0 (0)\n",
       " -->\n",
       "<!-- Title: %3 Pages: 1 -->\n",
       "<svg width=\"1332pt\" height=\"156pt\"\n",
       " viewBox=\"0.00 0.00 1332.00 156.00\" xmlns=\"http://www.w3.org/2000/svg\" xmlns:xlink=\"http://www.w3.org/1999/xlink\">\n",
       "<g id=\"graph0\" class=\"graph\" transform=\"scale(1 1) rotate(0) translate(4 152)\">\n",
       "<title>%3</title>\n",
       "<polygon fill=\"white\" stroke=\"transparent\" points=\"-4,4 -4,-152 1328,-152 1328,4 -4,4\"/>\n",
       "<!-- 134190228903952 -->\n",
       "<g id=\"node1\" class=\"node\">\n",
       "<title>134190228903952</title>\n",
       "<polygon fill=\"none\" stroke=\"black\" points=\"3,-111.5 3,-147.5 234,-147.5 234,-111.5 3,-111.5\"/>\n",
       "<text text-anchor=\"middle\" x=\"15.5\" y=\"-125.8\" font-family=\"Times,serif\" font-size=\"14.00\">a</text>\n",
       "<polyline fill=\"none\" stroke=\"black\" points=\"28,-111.5 28,-147.5 \"/>\n",
       "<text text-anchor=\"middle\" x=\"79\" y=\"-125.8\" font-family=\"Times,serif\" font-size=\"14.00\">data 2.0000</text>\n",
       "<polyline fill=\"none\" stroke=\"black\" points=\"130,-111.5 130,-147.5 \"/>\n",
       "<text text-anchor=\"middle\" x=\"182\" y=\"-125.8\" font-family=\"Times,serif\" font-size=\"14.00\">grad 0.0000</text>\n",
       "</g>\n",
       "<!-- 134190189473328* -->\n",
       "<g id=\"node3\" class=\"node\">\n",
       "<title>134190189473328*</title>\n",
       "<ellipse fill=\"none\" stroke=\"black\" cx=\"300\" cy=\"-101.5\" rx=\"27\" ry=\"18\"/>\n",
       "<text text-anchor=\"middle\" x=\"300\" y=\"-97.8\" font-family=\"Times,serif\" font-size=\"14.00\">*</text>\n",
       "</g>\n",
       "<!-- 134190228903952&#45;&gt;134190189473328* -->\n",
       "<g id=\"edge9\" class=\"edge\">\n",
       "<title>134190228903952&#45;&gt;134190189473328*</title>\n",
       "<path fill=\"none\" stroke=\"black\" d=\"M234.2,-111.61C244.76,-109.96 254.83,-108.39 263.74,-107\"/>\n",
       "<polygon fill=\"black\" stroke=\"black\" points=\"264.3,-110.46 273.64,-105.46 263.22,-103.54 264.3,-110.46\"/>\n",
       "</g>\n",
       "<!-- 134190189473328 -->\n",
       "<g id=\"node2\" class=\"node\">\n",
       "<title>134190189473328</title>\n",
       "<polygon fill=\"none\" stroke=\"black\" points=\"364.5,-83.5 364.5,-119.5 600.5,-119.5 600.5,-83.5 364.5,-83.5\"/>\n",
       "<text text-anchor=\"middle\" x=\"377\" y=\"-97.8\" font-family=\"Times,serif\" font-size=\"14.00\">e</text>\n",
       "<polyline fill=\"none\" stroke=\"black\" points=\"389.5,-83.5 389.5,-119.5 \"/>\n",
       "<text text-anchor=\"middle\" x=\"443\" y=\"-97.8\" font-family=\"Times,serif\" font-size=\"14.00\">data &#45;6.0000</text>\n",
       "<polyline fill=\"none\" stroke=\"black\" points=\"496.5,-83.5 496.5,-119.5 \"/>\n",
       "<text text-anchor=\"middle\" x=\"548.5\" y=\"-97.8\" font-family=\"Times,serif\" font-size=\"14.00\">grad 0.0000</text>\n",
       "</g>\n",
       "<!-- 134190189465744+ -->\n",
       "<g id=\"node7\" class=\"node\">\n",
       "<title>134190189465744+</title>\n",
       "<ellipse fill=\"none\" stroke=\"black\" cx=\"665\" cy=\"-73.5\" rx=\"27\" ry=\"18\"/>\n",
       "<text text-anchor=\"middle\" x=\"665\" y=\"-69.8\" font-family=\"Times,serif\" font-size=\"14.00\">+</text>\n",
       "</g>\n",
       "<!-- 134190189473328&#45;&gt;134190189465744+ -->\n",
       "<g id=\"edge4\" class=\"edge\">\n",
       "<title>134190189473328&#45;&gt;134190189465744+</title>\n",
       "<path fill=\"none\" stroke=\"black\" d=\"M599.6,-83.49C609.91,-81.89 619.74,-80.37 628.46,-79.01\"/>\n",
       "<polygon fill=\"black\" stroke=\"black\" points=\"629.18,-82.44 638.52,-77.45 628.1,-75.53 629.18,-82.44\"/>\n",
       "</g>\n",
       "<!-- 134190189473328*&#45;&gt;134190189473328 -->\n",
       "<g id=\"edge1\" class=\"edge\">\n",
       "<title>134190189473328*&#45;&gt;134190189473328</title>\n",
       "<path fill=\"none\" stroke=\"black\" d=\"M327.25,-101.5C335.09,-101.5 344.27,-101.5 354.17,-101.5\"/>\n",
       "<polygon fill=\"black\" stroke=\"black\" points=\"354.28,-105 364.28,-101.5 354.28,-98 354.28,-105\"/>\n",
       "</g>\n",
       "<!-- 134190189471360 -->\n",
       "<g id=\"node4\" class=\"node\">\n",
       "<title>134190189471360</title>\n",
       "<polygon fill=\"none\" stroke=\"black\" points=\"1087,-27.5 1087,-63.5 1324,-63.5 1324,-27.5 1087,-27.5\"/>\n",
       "<text text-anchor=\"middle\" x=\"1100\" y=\"-41.8\" font-family=\"Times,serif\" font-size=\"14.00\">L</text>\n",
       "<polyline fill=\"none\" stroke=\"black\" points=\"1113,-27.5 1113,-63.5 \"/>\n",
       "<text text-anchor=\"middle\" x=\"1166.5\" y=\"-41.8\" font-family=\"Times,serif\" font-size=\"14.00\">data &#45;8.0000</text>\n",
       "<polyline fill=\"none\" stroke=\"black\" points=\"1220,-27.5 1220,-63.5 \"/>\n",
       "<text text-anchor=\"middle\" x=\"1272\" y=\"-41.8\" font-family=\"Times,serif\" font-size=\"14.00\">grad 0.0000</text>\n",
       "</g>\n",
       "<!-- 134190189471360* -->\n",
       "<g id=\"node5\" class=\"node\">\n",
       "<title>134190189471360*</title>\n",
       "<ellipse fill=\"none\" stroke=\"black\" cx=\"1024\" cy=\"-45.5\" rx=\"27\" ry=\"18\"/>\n",
       "<text text-anchor=\"middle\" x=\"1024\" y=\"-41.8\" font-family=\"Times,serif\" font-size=\"14.00\">*</text>\n",
       "</g>\n",
       "<!-- 134190189471360*&#45;&gt;134190189471360 -->\n",
       "<g id=\"edge2\" class=\"edge\">\n",
       "<title>134190189471360*&#45;&gt;134190189471360</title>\n",
       "<path fill=\"none\" stroke=\"black\" d=\"M1051.1,-45.5C1058.61,-45.5 1067.33,-45.5 1076.75,-45.5\"/>\n",
       "<polygon fill=\"black\" stroke=\"black\" points=\"1076.78,-49 1086.78,-45.5 1076.78,-42 1076.78,-49\"/>\n",
       "</g>\n",
       "<!-- 134190189465744 -->\n",
       "<g id=\"node6\" class=\"node\">\n",
       "<title>134190189465744</title>\n",
       "<polygon fill=\"none\" stroke=\"black\" points=\"728.5,-55.5 728.5,-91.5 960.5,-91.5 960.5,-55.5 728.5,-55.5\"/>\n",
       "<text text-anchor=\"middle\" x=\"741.5\" y=\"-69.8\" font-family=\"Times,serif\" font-size=\"14.00\">d</text>\n",
       "<polyline fill=\"none\" stroke=\"black\" points=\"754.5,-55.5 754.5,-91.5 \"/>\n",
       "<text text-anchor=\"middle\" x=\"805.5\" y=\"-69.8\" font-family=\"Times,serif\" font-size=\"14.00\">data 4.0000</text>\n",
       "<polyline fill=\"none\" stroke=\"black\" points=\"856.5,-55.5 856.5,-91.5 \"/>\n",
       "<text text-anchor=\"middle\" x=\"908.5\" y=\"-69.8\" font-family=\"Times,serif\" font-size=\"14.00\">grad 0.0000</text>\n",
       "</g>\n",
       "<!-- 134190189465744&#45;&gt;134190189471360* -->\n",
       "<g id=\"edge8\" class=\"edge\">\n",
       "<title>134190189465744&#45;&gt;134190189471360*</title>\n",
       "<path fill=\"none\" stroke=\"black\" d=\"M959.67,-55.49C969.61,-53.92 979.08,-52.43 987.53,-51.1\"/>\n",
       "<polygon fill=\"black\" stroke=\"black\" points=\"988.31,-54.52 997.64,-49.5 987.22,-47.6 988.31,-54.52\"/>\n",
       "</g>\n",
       "<!-- 134190189465744+&#45;&gt;134190189465744 -->\n",
       "<g id=\"edge3\" class=\"edge\">\n",
       "<title>134190189465744+&#45;&gt;134190189465744</title>\n",
       "<path fill=\"none\" stroke=\"black\" d=\"M692.19,-73.5C699.78,-73.5 708.61,-73.5 718.11,-73.5\"/>\n",
       "<polygon fill=\"black\" stroke=\"black\" points=\"718.24,-77 728.24,-73.5 718.24,-70 718.24,-77\"/>\n",
       "</g>\n",
       "<!-- 134190228903088 -->\n",
       "<g id=\"node8\" class=\"node\">\n",
       "<title>134190228903088</title>\n",
       "<polygon fill=\"none\" stroke=\"black\" points=\"363,-28.5 363,-64.5 602,-64.5 602,-28.5 363,-28.5\"/>\n",
       "<text text-anchor=\"middle\" x=\"375\" y=\"-42.8\" font-family=\"Times,serif\" font-size=\"14.00\">c</text>\n",
       "<polyline fill=\"none\" stroke=\"black\" points=\"387,-28.5 387,-64.5 \"/>\n",
       "<text text-anchor=\"middle\" x=\"442.5\" y=\"-42.8\" font-family=\"Times,serif\" font-size=\"14.00\">data 10.0000</text>\n",
       "<polyline fill=\"none\" stroke=\"black\" points=\"498,-28.5 498,-64.5 \"/>\n",
       "<text text-anchor=\"middle\" x=\"550\" y=\"-42.8\" font-family=\"Times,serif\" font-size=\"14.00\">grad 0.0000</text>\n",
       "</g>\n",
       "<!-- 134190228903088&#45;&gt;134190189465744+ -->\n",
       "<g id=\"edge5\" class=\"edge\">\n",
       "<title>134190228903088&#45;&gt;134190189465744+</title>\n",
       "<path fill=\"none\" stroke=\"black\" d=\"M602.13,-64.25C611.53,-65.65 620.47,-66.99 628.48,-68.19\"/>\n",
       "<polygon fill=\"black\" stroke=\"black\" points=\"628.03,-71.66 638.44,-69.68 629.07,-64.74 628.03,-71.66\"/>\n",
       "</g>\n",
       "<!-- 134190228906832 -->\n",
       "<g id=\"node9\" class=\"node\">\n",
       "<title>134190228906832</title>\n",
       "<polygon fill=\"none\" stroke=\"black\" points=\"0,-56.5 0,-92.5 237,-92.5 237,-56.5 0,-56.5\"/>\n",
       "<text text-anchor=\"middle\" x=\"13\" y=\"-70.8\" font-family=\"Times,serif\" font-size=\"14.00\">b</text>\n",
       "<polyline fill=\"none\" stroke=\"black\" points=\"26,-56.5 26,-92.5 \"/>\n",
       "<text text-anchor=\"middle\" x=\"79.5\" y=\"-70.8\" font-family=\"Times,serif\" font-size=\"14.00\">data &#45;3.0000</text>\n",
       "<polyline fill=\"none\" stroke=\"black\" points=\"133,-56.5 133,-92.5 \"/>\n",
       "<text text-anchor=\"middle\" x=\"185\" y=\"-70.8\" font-family=\"Times,serif\" font-size=\"14.00\">grad 0.0000</text>\n",
       "</g>\n",
       "<!-- 134190228906832&#45;&gt;134190189473328* -->\n",
       "<g id=\"edge7\" class=\"edge\">\n",
       "<title>134190228906832&#45;&gt;134190189473328*</title>\n",
       "<path fill=\"none\" stroke=\"black\" d=\"M237.23,-92.21C246.6,-93.62 255.52,-94.96 263.52,-96.16\"/>\n",
       "<polygon fill=\"black\" stroke=\"black\" points=\"263.06,-99.63 273.47,-97.66 264.1,-92.71 263.06,-99.63\"/>\n",
       "</g>\n",
       "<!-- 134190189469152 -->\n",
       "<g id=\"node10\" class=\"node\">\n",
       "<title>134190189469152</title>\n",
       "<polygon fill=\"none\" stroke=\"black\" points=\"728,-0.5 728,-36.5 961,-36.5 961,-0.5 728,-0.5\"/>\n",
       "<text text-anchor=\"middle\" x=\"739\" y=\"-14.8\" font-family=\"Times,serif\" font-size=\"14.00\">f</text>\n",
       "<polyline fill=\"none\" stroke=\"black\" points=\"750,-0.5 750,-36.5 \"/>\n",
       "<text text-anchor=\"middle\" x=\"803.5\" y=\"-14.8\" font-family=\"Times,serif\" font-size=\"14.00\">data &#45;2.0000</text>\n",
       "<polyline fill=\"none\" stroke=\"black\" points=\"857,-0.5 857,-36.5 \"/>\n",
       "<text text-anchor=\"middle\" x=\"909\" y=\"-14.8\" font-family=\"Times,serif\" font-size=\"14.00\">grad 0.0000</text>\n",
       "</g>\n",
       "<!-- 134190189469152&#45;&gt;134190189471360* -->\n",
       "<g id=\"edge6\" class=\"edge\">\n",
       "<title>134190189469152&#45;&gt;134190189471360*</title>\n",
       "<path fill=\"none\" stroke=\"black\" d=\"M961.42,-36.13C970.75,-37.55 979.64,-38.9 987.61,-40.12\"/>\n",
       "<polygon fill=\"black\" stroke=\"black\" points=\"987.11,-43.58 997.52,-41.62 988.16,-36.66 987.11,-43.58\"/>\n",
       "</g>\n",
       "</g>\n",
       "</svg>\n"
      ],
      "text/plain": [
       "<graphviz.graphs.Digraph at 0x7a0b96316f20>"
      ]
     },
     "execution_count": 70,
     "metadata": {},
     "output_type": "execute_result"
    }
   ],
   "source": [
    "draw_dot(L)"
   ]
  },
  {
   "cell_type": "code",
   "execution_count": 73,
   "metadata": {},
   "outputs": [
    {
     "name": "stdout",
     "output_type": "stream",
     "text": [
      "1.000000000000334\n"
     ]
    }
   ],
   "source": [
    "# calculating the gradients manually now\n",
    "\n",
    "# we are writing this function (lol) for just calculate the grad of 'L'\n",
    "\n",
    "def lol():\n",
    "    h = 0.001\n",
    "    \n",
    "    a = Value(2.0, label='a')\n",
    "    b = Value(-3.0, label='b')\n",
    "    c = Value(10.0, label='c')\n",
    "    e = a*b ; e.label = \"e\"\n",
    "    d = e + c ; d.label = \"d\"\n",
    "    f = Value(-2.0, label='f')\n",
    "    L = d * f ; L.label = \"L\"\n",
    "    L1 = L.data\n",
    "    \n",
    "    a = Value(2.0, label='a')\n",
    "    b = Value(-3.0, label='b')\n",
    "    c = Value(10.0, label='c')\n",
    "    e = a*b ; e.label = \"e\"\n",
    "    d = e + c ; d.label = \"d\"\n",
    "    f = Value(-2.0, label='f')\n",
    "    L = d * f ; L.label = \"L\"\n",
    "    L2 = L.data + h\n",
    "    \n",
    "    print((L2 - L1) / h)\n",
    "\n",
    "lol()"
   ]
  },
  {
   "cell_type": "markdown",
   "metadata": {},
   "source": [
    "the gradient of L is 1, so we can manually add that "
   ]
  },
  {
   "cell_type": "code",
   "execution_count": 74,
   "metadata": {},
   "outputs": [],
   "source": [
    "L.grad = 1.0"
   ]
  },
  {
   "cell_type": "code",
   "execution_count": 75,
   "metadata": {},
   "outputs": [
    {
     "data": {
      "image/svg+xml": [
       "<?xml version=\"1.0\" encoding=\"UTF-8\" standalone=\"no\"?>\n",
       "<!DOCTYPE svg PUBLIC \"-//W3C//DTD SVG 1.1//EN\"\n",
       " \"http://www.w3.org/Graphics/SVG/1.1/DTD/svg11.dtd\">\n",
       "<!-- Generated by graphviz version 2.43.0 (0)\n",
       " -->\n",
       "<!-- Title: %3 Pages: 1 -->\n",
       "<svg width=\"1332pt\" height=\"156pt\"\n",
       " viewBox=\"0.00 0.00 1332.00 156.00\" xmlns=\"http://www.w3.org/2000/svg\" xmlns:xlink=\"http://www.w3.org/1999/xlink\">\n",
       "<g id=\"graph0\" class=\"graph\" transform=\"scale(1 1) rotate(0) translate(4 152)\">\n",
       "<title>%3</title>\n",
       "<polygon fill=\"white\" stroke=\"transparent\" points=\"-4,4 -4,-152 1328,-152 1328,4 -4,4\"/>\n",
       "<!-- 134190228903952 -->\n",
       "<g id=\"node1\" class=\"node\">\n",
       "<title>134190228903952</title>\n",
       "<polygon fill=\"none\" stroke=\"black\" points=\"3,-111.5 3,-147.5 234,-147.5 234,-111.5 3,-111.5\"/>\n",
       "<text text-anchor=\"middle\" x=\"15.5\" y=\"-125.8\" font-family=\"Times,serif\" font-size=\"14.00\">a</text>\n",
       "<polyline fill=\"none\" stroke=\"black\" points=\"28,-111.5 28,-147.5 \"/>\n",
       "<text text-anchor=\"middle\" x=\"79\" y=\"-125.8\" font-family=\"Times,serif\" font-size=\"14.00\">data 2.0000</text>\n",
       "<polyline fill=\"none\" stroke=\"black\" points=\"130,-111.5 130,-147.5 \"/>\n",
       "<text text-anchor=\"middle\" x=\"182\" y=\"-125.8\" font-family=\"Times,serif\" font-size=\"14.00\">grad 0.0000</text>\n",
       "</g>\n",
       "<!-- 134190189473328* -->\n",
       "<g id=\"node3\" class=\"node\">\n",
       "<title>134190189473328*</title>\n",
       "<ellipse fill=\"none\" stroke=\"black\" cx=\"300\" cy=\"-101.5\" rx=\"27\" ry=\"18\"/>\n",
       "<text text-anchor=\"middle\" x=\"300\" y=\"-97.8\" font-family=\"Times,serif\" font-size=\"14.00\">*</text>\n",
       "</g>\n",
       "<!-- 134190228903952&#45;&gt;134190189473328* -->\n",
       "<g id=\"edge9\" class=\"edge\">\n",
       "<title>134190228903952&#45;&gt;134190189473328*</title>\n",
       "<path fill=\"none\" stroke=\"black\" d=\"M234.2,-111.61C244.76,-109.96 254.83,-108.39 263.74,-107\"/>\n",
       "<polygon fill=\"black\" stroke=\"black\" points=\"264.3,-110.46 273.64,-105.46 263.22,-103.54 264.3,-110.46\"/>\n",
       "</g>\n",
       "<!-- 134190189473328 -->\n",
       "<g id=\"node2\" class=\"node\">\n",
       "<title>134190189473328</title>\n",
       "<polygon fill=\"none\" stroke=\"black\" points=\"364.5,-83.5 364.5,-119.5 600.5,-119.5 600.5,-83.5 364.5,-83.5\"/>\n",
       "<text text-anchor=\"middle\" x=\"377\" y=\"-97.8\" font-family=\"Times,serif\" font-size=\"14.00\">e</text>\n",
       "<polyline fill=\"none\" stroke=\"black\" points=\"389.5,-83.5 389.5,-119.5 \"/>\n",
       "<text text-anchor=\"middle\" x=\"443\" y=\"-97.8\" font-family=\"Times,serif\" font-size=\"14.00\">data &#45;6.0000</text>\n",
       "<polyline fill=\"none\" stroke=\"black\" points=\"496.5,-83.5 496.5,-119.5 \"/>\n",
       "<text text-anchor=\"middle\" x=\"548.5\" y=\"-97.8\" font-family=\"Times,serif\" font-size=\"14.00\">grad 0.0000</text>\n",
       "</g>\n",
       "<!-- 134190189465744+ -->\n",
       "<g id=\"node7\" class=\"node\">\n",
       "<title>134190189465744+</title>\n",
       "<ellipse fill=\"none\" stroke=\"black\" cx=\"665\" cy=\"-73.5\" rx=\"27\" ry=\"18\"/>\n",
       "<text text-anchor=\"middle\" x=\"665\" y=\"-69.8\" font-family=\"Times,serif\" font-size=\"14.00\">+</text>\n",
       "</g>\n",
       "<!-- 134190189473328&#45;&gt;134190189465744+ -->\n",
       "<g id=\"edge4\" class=\"edge\">\n",
       "<title>134190189473328&#45;&gt;134190189465744+</title>\n",
       "<path fill=\"none\" stroke=\"black\" d=\"M599.6,-83.49C609.91,-81.89 619.74,-80.37 628.46,-79.01\"/>\n",
       "<polygon fill=\"black\" stroke=\"black\" points=\"629.18,-82.44 638.52,-77.45 628.1,-75.53 629.18,-82.44\"/>\n",
       "</g>\n",
       "<!-- 134190189473328*&#45;&gt;134190189473328 -->\n",
       "<g id=\"edge1\" class=\"edge\">\n",
       "<title>134190189473328*&#45;&gt;134190189473328</title>\n",
       "<path fill=\"none\" stroke=\"black\" d=\"M327.25,-101.5C335.09,-101.5 344.27,-101.5 354.17,-101.5\"/>\n",
       "<polygon fill=\"black\" stroke=\"black\" points=\"354.28,-105 364.28,-101.5 354.28,-98 354.28,-105\"/>\n",
       "</g>\n",
       "<!-- 134190189471360 -->\n",
       "<g id=\"node4\" class=\"node\">\n",
       "<title>134190189471360</title>\n",
       "<polygon fill=\"none\" stroke=\"black\" points=\"1087,-27.5 1087,-63.5 1324,-63.5 1324,-27.5 1087,-27.5\"/>\n",
       "<text text-anchor=\"middle\" x=\"1100\" y=\"-41.8\" font-family=\"Times,serif\" font-size=\"14.00\">L</text>\n",
       "<polyline fill=\"none\" stroke=\"black\" points=\"1113,-27.5 1113,-63.5 \"/>\n",
       "<text text-anchor=\"middle\" x=\"1166.5\" y=\"-41.8\" font-family=\"Times,serif\" font-size=\"14.00\">data &#45;8.0000</text>\n",
       "<polyline fill=\"none\" stroke=\"black\" points=\"1220,-27.5 1220,-63.5 \"/>\n",
       "<text text-anchor=\"middle\" x=\"1272\" y=\"-41.8\" font-family=\"Times,serif\" font-size=\"14.00\">grad 1.0000</text>\n",
       "</g>\n",
       "<!-- 134190189471360* -->\n",
       "<g id=\"node5\" class=\"node\">\n",
       "<title>134190189471360*</title>\n",
       "<ellipse fill=\"none\" stroke=\"black\" cx=\"1024\" cy=\"-45.5\" rx=\"27\" ry=\"18\"/>\n",
       "<text text-anchor=\"middle\" x=\"1024\" y=\"-41.8\" font-family=\"Times,serif\" font-size=\"14.00\">*</text>\n",
       "</g>\n",
       "<!-- 134190189471360*&#45;&gt;134190189471360 -->\n",
       "<g id=\"edge2\" class=\"edge\">\n",
       "<title>134190189471360*&#45;&gt;134190189471360</title>\n",
       "<path fill=\"none\" stroke=\"black\" d=\"M1051.1,-45.5C1058.61,-45.5 1067.33,-45.5 1076.75,-45.5\"/>\n",
       "<polygon fill=\"black\" stroke=\"black\" points=\"1076.78,-49 1086.78,-45.5 1076.78,-42 1076.78,-49\"/>\n",
       "</g>\n",
       "<!-- 134190189465744 -->\n",
       "<g id=\"node6\" class=\"node\">\n",
       "<title>134190189465744</title>\n",
       "<polygon fill=\"none\" stroke=\"black\" points=\"728.5,-55.5 728.5,-91.5 960.5,-91.5 960.5,-55.5 728.5,-55.5\"/>\n",
       "<text text-anchor=\"middle\" x=\"741.5\" y=\"-69.8\" font-family=\"Times,serif\" font-size=\"14.00\">d</text>\n",
       "<polyline fill=\"none\" stroke=\"black\" points=\"754.5,-55.5 754.5,-91.5 \"/>\n",
       "<text text-anchor=\"middle\" x=\"805.5\" y=\"-69.8\" font-family=\"Times,serif\" font-size=\"14.00\">data 4.0000</text>\n",
       "<polyline fill=\"none\" stroke=\"black\" points=\"856.5,-55.5 856.5,-91.5 \"/>\n",
       "<text text-anchor=\"middle\" x=\"908.5\" y=\"-69.8\" font-family=\"Times,serif\" font-size=\"14.00\">grad 0.0000</text>\n",
       "</g>\n",
       "<!-- 134190189465744&#45;&gt;134190189471360* -->\n",
       "<g id=\"edge8\" class=\"edge\">\n",
       "<title>134190189465744&#45;&gt;134190189471360*</title>\n",
       "<path fill=\"none\" stroke=\"black\" d=\"M959.67,-55.49C969.61,-53.92 979.08,-52.43 987.53,-51.1\"/>\n",
       "<polygon fill=\"black\" stroke=\"black\" points=\"988.31,-54.52 997.64,-49.5 987.22,-47.6 988.31,-54.52\"/>\n",
       "</g>\n",
       "<!-- 134190189465744+&#45;&gt;134190189465744 -->\n",
       "<g id=\"edge3\" class=\"edge\">\n",
       "<title>134190189465744+&#45;&gt;134190189465744</title>\n",
       "<path fill=\"none\" stroke=\"black\" d=\"M692.19,-73.5C699.78,-73.5 708.61,-73.5 718.11,-73.5\"/>\n",
       "<polygon fill=\"black\" stroke=\"black\" points=\"718.24,-77 728.24,-73.5 718.24,-70 718.24,-77\"/>\n",
       "</g>\n",
       "<!-- 134190228903088 -->\n",
       "<g id=\"node8\" class=\"node\">\n",
       "<title>134190228903088</title>\n",
       "<polygon fill=\"none\" stroke=\"black\" points=\"363,-28.5 363,-64.5 602,-64.5 602,-28.5 363,-28.5\"/>\n",
       "<text text-anchor=\"middle\" x=\"375\" y=\"-42.8\" font-family=\"Times,serif\" font-size=\"14.00\">c</text>\n",
       "<polyline fill=\"none\" stroke=\"black\" points=\"387,-28.5 387,-64.5 \"/>\n",
       "<text text-anchor=\"middle\" x=\"442.5\" y=\"-42.8\" font-family=\"Times,serif\" font-size=\"14.00\">data 10.0000</text>\n",
       "<polyline fill=\"none\" stroke=\"black\" points=\"498,-28.5 498,-64.5 \"/>\n",
       "<text text-anchor=\"middle\" x=\"550\" y=\"-42.8\" font-family=\"Times,serif\" font-size=\"14.00\">grad 0.0000</text>\n",
       "</g>\n",
       "<!-- 134190228903088&#45;&gt;134190189465744+ -->\n",
       "<g id=\"edge5\" class=\"edge\">\n",
       "<title>134190228903088&#45;&gt;134190189465744+</title>\n",
       "<path fill=\"none\" stroke=\"black\" d=\"M602.13,-64.25C611.53,-65.65 620.47,-66.99 628.48,-68.19\"/>\n",
       "<polygon fill=\"black\" stroke=\"black\" points=\"628.03,-71.66 638.44,-69.68 629.07,-64.74 628.03,-71.66\"/>\n",
       "</g>\n",
       "<!-- 134190228906832 -->\n",
       "<g id=\"node9\" class=\"node\">\n",
       "<title>134190228906832</title>\n",
       "<polygon fill=\"none\" stroke=\"black\" points=\"0,-56.5 0,-92.5 237,-92.5 237,-56.5 0,-56.5\"/>\n",
       "<text text-anchor=\"middle\" x=\"13\" y=\"-70.8\" font-family=\"Times,serif\" font-size=\"14.00\">b</text>\n",
       "<polyline fill=\"none\" stroke=\"black\" points=\"26,-56.5 26,-92.5 \"/>\n",
       "<text text-anchor=\"middle\" x=\"79.5\" y=\"-70.8\" font-family=\"Times,serif\" font-size=\"14.00\">data &#45;3.0000</text>\n",
       "<polyline fill=\"none\" stroke=\"black\" points=\"133,-56.5 133,-92.5 \"/>\n",
       "<text text-anchor=\"middle\" x=\"185\" y=\"-70.8\" font-family=\"Times,serif\" font-size=\"14.00\">grad 0.0000</text>\n",
       "</g>\n",
       "<!-- 134190228906832&#45;&gt;134190189473328* -->\n",
       "<g id=\"edge7\" class=\"edge\">\n",
       "<title>134190228906832&#45;&gt;134190189473328*</title>\n",
       "<path fill=\"none\" stroke=\"black\" d=\"M237.23,-92.21C246.6,-93.62 255.52,-94.96 263.52,-96.16\"/>\n",
       "<polygon fill=\"black\" stroke=\"black\" points=\"263.06,-99.63 273.47,-97.66 264.1,-92.71 263.06,-99.63\"/>\n",
       "</g>\n",
       "<!-- 134190189469152 -->\n",
       "<g id=\"node10\" class=\"node\">\n",
       "<title>134190189469152</title>\n",
       "<polygon fill=\"none\" stroke=\"black\" points=\"728,-0.5 728,-36.5 961,-36.5 961,-0.5 728,-0.5\"/>\n",
       "<text text-anchor=\"middle\" x=\"739\" y=\"-14.8\" font-family=\"Times,serif\" font-size=\"14.00\">f</text>\n",
       "<polyline fill=\"none\" stroke=\"black\" points=\"750,-0.5 750,-36.5 \"/>\n",
       "<text text-anchor=\"middle\" x=\"803.5\" y=\"-14.8\" font-family=\"Times,serif\" font-size=\"14.00\">data &#45;2.0000</text>\n",
       "<polyline fill=\"none\" stroke=\"black\" points=\"857,-0.5 857,-36.5 \"/>\n",
       "<text text-anchor=\"middle\" x=\"909\" y=\"-14.8\" font-family=\"Times,serif\" font-size=\"14.00\">grad 0.0000</text>\n",
       "</g>\n",
       "<!-- 134190189469152&#45;&gt;134190189471360* -->\n",
       "<g id=\"edge6\" class=\"edge\">\n",
       "<title>134190189469152&#45;&gt;134190189471360*</title>\n",
       "<path fill=\"none\" stroke=\"black\" d=\"M961.42,-36.13C970.75,-37.55 979.64,-38.9 987.61,-40.12\"/>\n",
       "<polygon fill=\"black\" stroke=\"black\" points=\"987.11,-43.58 997.52,-41.62 988.16,-36.66 987.11,-43.58\"/>\n",
       "</g>\n",
       "</g>\n",
       "</svg>\n"
      ],
      "text/plain": [
       "<graphviz.graphs.Digraph at 0x7a0b96243040>"
      ]
     },
     "execution_count": 75,
     "metadata": {},
     "output_type": "execute_result"
    }
   ],
   "source": [
    "draw_dot(L)"
   ]
  },
  {
   "cell_type": "markdown",
   "metadata": {},
   "source": [
    "Now we wanna find out the derivative of L with respect to d and f, let's start with d"
   ]
  },
  {
   "cell_type": "markdown",
   "metadata": {},
   "source": [
    "The real question is what is dL/dd ?????"
   ]
  },
  {
   "cell_type": "markdown",
   "metadata": {},
   "source": [
    "Let's find out mathematically \n",
    "\n",
    "```\n",
    "(f(x + h) - f(x)) / h ----- common formula\n",
    "((d+h) * f - d*f) / h\n",
    "(d*f + h*f - d*f) / h\n",
    "(h*f) / h\n",
    "f\n",
    "```"
   ]
  },
  {
   "cell_type": "markdown",
   "metadata": {},
   "source": [
    "What is the actual meaning of graidient of d ----> if d change by 1, how much do the L change ?"
   ]
  },
  {
   "cell_type": "code",
   "execution_count": 76,
   "metadata": {},
   "outputs": [],
   "source": [
    "# the gradient of d will be f, becuase always it will be multiplied by f. And wise versa\n",
    "\n",
    "d.grad = -2.0\n",
    "f.grad = 4.0"
   ]
  },
  {
   "cell_type": "code",
   "execution_count": 77,
   "metadata": {},
   "outputs": [
    {
     "data": {
      "image/svg+xml": [
       "<?xml version=\"1.0\" encoding=\"UTF-8\" standalone=\"no\"?>\n",
       "<!DOCTYPE svg PUBLIC \"-//W3C//DTD SVG 1.1//EN\"\n",
       " \"http://www.w3.org/Graphics/SVG/1.1/DTD/svg11.dtd\">\n",
       "<!-- Generated by graphviz version 2.43.0 (0)\n",
       " -->\n",
       "<!-- Title: %3 Pages: 1 -->\n",
       "<svg width=\"1335pt\" height=\"156pt\"\n",
       " viewBox=\"0.00 0.00 1335.00 156.00\" xmlns=\"http://www.w3.org/2000/svg\" xmlns:xlink=\"http://www.w3.org/1999/xlink\">\n",
       "<g id=\"graph0\" class=\"graph\" transform=\"scale(1 1) rotate(0) translate(4 152)\">\n",
       "<title>%3</title>\n",
       "<polygon fill=\"white\" stroke=\"transparent\" points=\"-4,4 -4,-152 1331,-152 1331,4 -4,4\"/>\n",
       "<!-- 134190228903952 -->\n",
       "<g id=\"node1\" class=\"node\">\n",
       "<title>134190228903952</title>\n",
       "<polygon fill=\"none\" stroke=\"black\" points=\"3,-111.5 3,-147.5 234,-147.5 234,-111.5 3,-111.5\"/>\n",
       "<text text-anchor=\"middle\" x=\"15.5\" y=\"-125.8\" font-family=\"Times,serif\" font-size=\"14.00\">a</text>\n",
       "<polyline fill=\"none\" stroke=\"black\" points=\"28,-111.5 28,-147.5 \"/>\n",
       "<text text-anchor=\"middle\" x=\"79\" y=\"-125.8\" font-family=\"Times,serif\" font-size=\"14.00\">data 2.0000</text>\n",
       "<polyline fill=\"none\" stroke=\"black\" points=\"130,-111.5 130,-147.5 \"/>\n",
       "<text text-anchor=\"middle\" x=\"182\" y=\"-125.8\" font-family=\"Times,serif\" font-size=\"14.00\">grad 0.0000</text>\n",
       "</g>\n",
       "<!-- 134190189473328* -->\n",
       "<g id=\"node3\" class=\"node\">\n",
       "<title>134190189473328*</title>\n",
       "<ellipse fill=\"none\" stroke=\"black\" cx=\"300\" cy=\"-101.5\" rx=\"27\" ry=\"18\"/>\n",
       "<text text-anchor=\"middle\" x=\"300\" y=\"-97.8\" font-family=\"Times,serif\" font-size=\"14.00\">*</text>\n",
       "</g>\n",
       "<!-- 134190228903952&#45;&gt;134190189473328* -->\n",
       "<g id=\"edge9\" class=\"edge\">\n",
       "<title>134190228903952&#45;&gt;134190189473328*</title>\n",
       "<path fill=\"none\" stroke=\"black\" d=\"M234.2,-111.61C244.76,-109.96 254.83,-108.39 263.74,-107\"/>\n",
       "<polygon fill=\"black\" stroke=\"black\" points=\"264.3,-110.46 273.64,-105.46 263.22,-103.54 264.3,-110.46\"/>\n",
       "</g>\n",
       "<!-- 134190189473328 -->\n",
       "<g id=\"node2\" class=\"node\">\n",
       "<title>134190189473328</title>\n",
       "<polygon fill=\"none\" stroke=\"black\" points=\"364.5,-83.5 364.5,-119.5 600.5,-119.5 600.5,-83.5 364.5,-83.5\"/>\n",
       "<text text-anchor=\"middle\" x=\"377\" y=\"-97.8\" font-family=\"Times,serif\" font-size=\"14.00\">e</text>\n",
       "<polyline fill=\"none\" stroke=\"black\" points=\"389.5,-83.5 389.5,-119.5 \"/>\n",
       "<text text-anchor=\"middle\" x=\"443\" y=\"-97.8\" font-family=\"Times,serif\" font-size=\"14.00\">data &#45;6.0000</text>\n",
       "<polyline fill=\"none\" stroke=\"black\" points=\"496.5,-83.5 496.5,-119.5 \"/>\n",
       "<text text-anchor=\"middle\" x=\"548.5\" y=\"-97.8\" font-family=\"Times,serif\" font-size=\"14.00\">grad 0.0000</text>\n",
       "</g>\n",
       "<!-- 134190189465744+ -->\n",
       "<g id=\"node7\" class=\"node\">\n",
       "<title>134190189465744+</title>\n",
       "<ellipse fill=\"none\" stroke=\"black\" cx=\"665\" cy=\"-73.5\" rx=\"27\" ry=\"18\"/>\n",
       "<text text-anchor=\"middle\" x=\"665\" y=\"-69.8\" font-family=\"Times,serif\" font-size=\"14.00\">+</text>\n",
       "</g>\n",
       "<!-- 134190189473328&#45;&gt;134190189465744+ -->\n",
       "<g id=\"edge4\" class=\"edge\">\n",
       "<title>134190189473328&#45;&gt;134190189465744+</title>\n",
       "<path fill=\"none\" stroke=\"black\" d=\"M599.6,-83.49C609.91,-81.89 619.74,-80.37 628.46,-79.01\"/>\n",
       "<polygon fill=\"black\" stroke=\"black\" points=\"629.18,-82.44 638.52,-77.45 628.1,-75.53 629.18,-82.44\"/>\n",
       "</g>\n",
       "<!-- 134190189473328*&#45;&gt;134190189473328 -->\n",
       "<g id=\"edge1\" class=\"edge\">\n",
       "<title>134190189473328*&#45;&gt;134190189473328</title>\n",
       "<path fill=\"none\" stroke=\"black\" d=\"M327.25,-101.5C335.09,-101.5 344.27,-101.5 354.17,-101.5\"/>\n",
       "<polygon fill=\"black\" stroke=\"black\" points=\"354.28,-105 364.28,-101.5 354.28,-98 354.28,-105\"/>\n",
       "</g>\n",
       "<!-- 134190189471360 -->\n",
       "<g id=\"node4\" class=\"node\">\n",
       "<title>134190189471360</title>\n",
       "<polygon fill=\"none\" stroke=\"black\" points=\"1090,-27.5 1090,-63.5 1327,-63.5 1327,-27.5 1090,-27.5\"/>\n",
       "<text text-anchor=\"middle\" x=\"1103\" y=\"-41.8\" font-family=\"Times,serif\" font-size=\"14.00\">L</text>\n",
       "<polyline fill=\"none\" stroke=\"black\" points=\"1116,-27.5 1116,-63.5 \"/>\n",
       "<text text-anchor=\"middle\" x=\"1169.5\" y=\"-41.8\" font-family=\"Times,serif\" font-size=\"14.00\">data &#45;8.0000</text>\n",
       "<polyline fill=\"none\" stroke=\"black\" points=\"1223,-27.5 1223,-63.5 \"/>\n",
       "<text text-anchor=\"middle\" x=\"1275\" y=\"-41.8\" font-family=\"Times,serif\" font-size=\"14.00\">grad 1.0000</text>\n",
       "</g>\n",
       "<!-- 134190189471360* -->\n",
       "<g id=\"node5\" class=\"node\">\n",
       "<title>134190189471360*</title>\n",
       "<ellipse fill=\"none\" stroke=\"black\" cx=\"1027\" cy=\"-45.5\" rx=\"27\" ry=\"18\"/>\n",
       "<text text-anchor=\"middle\" x=\"1027\" y=\"-41.8\" font-family=\"Times,serif\" font-size=\"14.00\">*</text>\n",
       "</g>\n",
       "<!-- 134190189471360*&#45;&gt;134190189471360 -->\n",
       "<g id=\"edge2\" class=\"edge\">\n",
       "<title>134190189471360*&#45;&gt;134190189471360</title>\n",
       "<path fill=\"none\" stroke=\"black\" d=\"M1054.1,-45.5C1061.61,-45.5 1070.33,-45.5 1079.75,-45.5\"/>\n",
       "<polygon fill=\"black\" stroke=\"black\" points=\"1079.78,-49 1089.78,-45.5 1079.78,-42 1079.78,-49\"/>\n",
       "</g>\n",
       "<!-- 134190189465744 -->\n",
       "<g id=\"node6\" class=\"node\">\n",
       "<title>134190189465744</title>\n",
       "<polygon fill=\"none\" stroke=\"black\" points=\"728,-55.5 728,-91.5 964,-91.5 964,-55.5 728,-55.5\"/>\n",
       "<text text-anchor=\"middle\" x=\"741\" y=\"-69.8\" font-family=\"Times,serif\" font-size=\"14.00\">d</text>\n",
       "<polyline fill=\"none\" stroke=\"black\" points=\"754,-55.5 754,-91.5 \"/>\n",
       "<text text-anchor=\"middle\" x=\"805\" y=\"-69.8\" font-family=\"Times,serif\" font-size=\"14.00\">data 4.0000</text>\n",
       "<polyline fill=\"none\" stroke=\"black\" points=\"856,-55.5 856,-91.5 \"/>\n",
       "<text text-anchor=\"middle\" x=\"910\" y=\"-69.8\" font-family=\"Times,serif\" font-size=\"14.00\">grad &#45;2.0000</text>\n",
       "</g>\n",
       "<!-- 134190189465744&#45;&gt;134190189471360* -->\n",
       "<g id=\"edge8\" class=\"edge\">\n",
       "<title>134190189465744&#45;&gt;134190189471360*</title>\n",
       "<path fill=\"none\" stroke=\"black\" d=\"M962.13,-55.49C972.27,-53.91 981.92,-52.4 990.51,-51.05\"/>\n",
       "<polygon fill=\"black\" stroke=\"black\" points=\"991.09,-54.5 1000.43,-49.5 990.01,-47.59 991.09,-54.5\"/>\n",
       "</g>\n",
       "<!-- 134190189465744+&#45;&gt;134190189465744 -->\n",
       "<g id=\"edge3\" class=\"edge\">\n",
       "<title>134190189465744+&#45;&gt;134190189465744</title>\n",
       "<path fill=\"none\" stroke=\"black\" d=\"M692.03,-73.5C699.58,-73.5 708.38,-73.5 717.87,-73.5\"/>\n",
       "<polygon fill=\"black\" stroke=\"black\" points=\"717.99,-77 727.99,-73.5 717.99,-70 717.99,-77\"/>\n",
       "</g>\n",
       "<!-- 134190228903088 -->\n",
       "<g id=\"node8\" class=\"node\">\n",
       "<title>134190228903088</title>\n",
       "<polygon fill=\"none\" stroke=\"black\" points=\"363,-28.5 363,-64.5 602,-64.5 602,-28.5 363,-28.5\"/>\n",
       "<text text-anchor=\"middle\" x=\"375\" y=\"-42.8\" font-family=\"Times,serif\" font-size=\"14.00\">c</text>\n",
       "<polyline fill=\"none\" stroke=\"black\" points=\"387,-28.5 387,-64.5 \"/>\n",
       "<text text-anchor=\"middle\" x=\"442.5\" y=\"-42.8\" font-family=\"Times,serif\" font-size=\"14.00\">data 10.0000</text>\n",
       "<polyline fill=\"none\" stroke=\"black\" points=\"498,-28.5 498,-64.5 \"/>\n",
       "<text text-anchor=\"middle\" x=\"550\" y=\"-42.8\" font-family=\"Times,serif\" font-size=\"14.00\">grad 0.0000</text>\n",
       "</g>\n",
       "<!-- 134190228903088&#45;&gt;134190189465744+ -->\n",
       "<g id=\"edge5\" class=\"edge\">\n",
       "<title>134190228903088&#45;&gt;134190189465744+</title>\n",
       "<path fill=\"none\" stroke=\"black\" d=\"M602.13,-64.25C611.53,-65.65 620.47,-66.99 628.48,-68.19\"/>\n",
       "<polygon fill=\"black\" stroke=\"black\" points=\"628.03,-71.66 638.44,-69.68 629.07,-64.74 628.03,-71.66\"/>\n",
       "</g>\n",
       "<!-- 134190228906832 -->\n",
       "<g id=\"node9\" class=\"node\">\n",
       "<title>134190228906832</title>\n",
       "<polygon fill=\"none\" stroke=\"black\" points=\"0,-56.5 0,-92.5 237,-92.5 237,-56.5 0,-56.5\"/>\n",
       "<text text-anchor=\"middle\" x=\"13\" y=\"-70.8\" font-family=\"Times,serif\" font-size=\"14.00\">b</text>\n",
       "<polyline fill=\"none\" stroke=\"black\" points=\"26,-56.5 26,-92.5 \"/>\n",
       "<text text-anchor=\"middle\" x=\"79.5\" y=\"-70.8\" font-family=\"Times,serif\" font-size=\"14.00\">data &#45;3.0000</text>\n",
       "<polyline fill=\"none\" stroke=\"black\" points=\"133,-56.5 133,-92.5 \"/>\n",
       "<text text-anchor=\"middle\" x=\"185\" y=\"-70.8\" font-family=\"Times,serif\" font-size=\"14.00\">grad 0.0000</text>\n",
       "</g>\n",
       "<!-- 134190228906832&#45;&gt;134190189473328* -->\n",
       "<g id=\"edge7\" class=\"edge\">\n",
       "<title>134190228906832&#45;&gt;134190189473328*</title>\n",
       "<path fill=\"none\" stroke=\"black\" d=\"M237.23,-92.21C246.6,-93.62 255.52,-94.96 263.52,-96.16\"/>\n",
       "<polygon fill=\"black\" stroke=\"black\" points=\"263.06,-99.63 273.47,-97.66 264.1,-92.71 263.06,-99.63\"/>\n",
       "</g>\n",
       "<!-- 134190189469152 -->\n",
       "<g id=\"node10\" class=\"node\">\n",
       "<title>134190189469152</title>\n",
       "<polygon fill=\"none\" stroke=\"black\" points=\"729.5,-0.5 729.5,-36.5 962.5,-36.5 962.5,-0.5 729.5,-0.5\"/>\n",
       "<text text-anchor=\"middle\" x=\"740.5\" y=\"-14.8\" font-family=\"Times,serif\" font-size=\"14.00\">f</text>\n",
       "<polyline fill=\"none\" stroke=\"black\" points=\"751.5,-0.5 751.5,-36.5 \"/>\n",
       "<text text-anchor=\"middle\" x=\"805\" y=\"-14.8\" font-family=\"Times,serif\" font-size=\"14.00\">data &#45;2.0000</text>\n",
       "<polyline fill=\"none\" stroke=\"black\" points=\"858.5,-0.5 858.5,-36.5 \"/>\n",
       "<text text-anchor=\"middle\" x=\"910.5\" y=\"-14.8\" font-family=\"Times,serif\" font-size=\"14.00\">grad 4.0000</text>\n",
       "</g>\n",
       "<!-- 134190189469152&#45;&gt;134190189471360* -->\n",
       "<g id=\"edge6\" class=\"edge\">\n",
       "<title>134190189469152&#45;&gt;134190189471360*</title>\n",
       "<path fill=\"none\" stroke=\"black\" d=\"M962.64,-35.94C972.5,-37.43 981.9,-38.85 990.29,-40.11\"/>\n",
       "<polygon fill=\"black\" stroke=\"black\" points=\"989.94,-43.6 1000.35,-41.63 990.98,-36.68 989.94,-43.6\"/>\n",
       "</g>\n",
       "</g>\n",
       "</svg>\n"
      ],
      "text/plain": [
       "<graphviz.graphs.Digraph at 0x7a0b960cf250>"
      ]
     },
     "execution_count": 77,
     "metadata": {},
     "output_type": "execute_result"
    }
   ],
   "source": [
    "draw_dot(L)"
   ]
  },
  {
   "cell_type": "code",
   "execution_count": 78,
   "metadata": {},
   "outputs": [
    {
     "name": "stdout",
     "output_type": "stream",
     "text": [
      "3.9999999999995595\n"
     ]
    }
   ],
   "source": [
    "# we can check the derivative of d and f with our 'lol' function\n",
    "\n",
    "def lol():\n",
    "    h = 0.0001\n",
    "    \n",
    "    a = Value(2.0, label='a')\n",
    "    b = Value(-3.0, label='b')\n",
    "    c = Value(10.0, label='c')\n",
    "    e = a*b ; e.label = \"e\"\n",
    "    d = e + c ; d.label = \"d\"\n",
    "    f = Value(-2.0, label='f')\n",
    "    L = d * f ; L.label = \"L\"\n",
    "    L1 = L.data\n",
    "    \n",
    "    a = Value(2.0, label='a')\n",
    "    b = Value(-3.0, label='b')\n",
    "    c = Value(10.0, label='c')\n",
    "    e = a*b ; e.label = \"e\"\n",
    "    d = e + c ; d.label = \"d\"\n",
    "    f = Value(-2.0 + h, label='f') # adding h in f , means bumping the f a bit, checking the change in L\n",
    "    L = d * f ; L.label = \"L\"\n",
    "    L2 = L.data\n",
    "    \n",
    "    print((L2 - L1) / h)\n",
    "    \n",
    "lol()"
   ]
  },
  {
   "cell_type": "markdown",
   "metadata": {},
   "source": [
    "Yep it is 4, let's check for the d as well"
   ]
  },
  {
   "cell_type": "code",
   "execution_count": 81,
   "metadata": {},
   "outputs": [
    {
     "name": "stdout",
     "output_type": "stream",
     "text": [
      "-2.000000000000668\n"
     ]
    }
   ],
   "source": [
    "def lol():\n",
    "    h = 0.001\n",
    "    \n",
    "    a = Value(2.0, label='a')\n",
    "    b = Value(-3.0, label='b')\n",
    "    c = Value(10.0, label='c')\n",
    "    e = a*b ; e.label = \"e\"\n",
    "    d = e + c ; d.label = \"d\"\n",
    "    f = Value(-2.0, label='f')\n",
    "    L = d * f ; L.label = \"L\"\n",
    "    L1 = L.data\n",
    "    \n",
    "    a = Value(2.0, label='a')\n",
    "    b = Value(-3.0, label='b')\n",
    "    c = Value(10.0, label='c')\n",
    "    e = a*b ; e.label = \"e\"\n",
    "    d = e + c ; d.label = \"d\"\n",
    "    d += Value(h)                      # adding h with d\n",
    "    f = Value(-2.0, label='f')\n",
    "    L = d * f ; L.label = \"L\"\n",
    "    L2 = L.data\n",
    "    \n",
    "    print((L2 - L1) / h)\n",
    "lol()"
   ]
  },
  {
   "cell_type": "markdown",
   "metadata": {},
   "source": [
    "Yep, it is -2"
   ]
  },
  {
   "cell_type": "markdown",
   "metadata": {},
   "source": [
    "Now, we needed to derive dL / dc . What is the change of c influence the L"
   ]
  },
  {
   "cell_type": "code",
   "execution_count": 83,
   "metadata": {},
   "outputs": [
    {
     "data": {
      "image/svg+xml": [
       "<?xml version=\"1.0\" encoding=\"UTF-8\" standalone=\"no\"?>\n",
       "<!DOCTYPE svg PUBLIC \"-//W3C//DTD SVG 1.1//EN\"\n",
       " \"http://www.w3.org/Graphics/SVG/1.1/DTD/svg11.dtd\">\n",
       "<!-- Generated by graphviz version 2.43.0 (0)\n",
       " -->\n",
       "<!-- Title: %3 Pages: 1 -->\n",
       "<svg width=\"1335pt\" height=\"156pt\"\n",
       " viewBox=\"0.00 0.00 1335.00 156.00\" xmlns=\"http://www.w3.org/2000/svg\" xmlns:xlink=\"http://www.w3.org/1999/xlink\">\n",
       "<g id=\"graph0\" class=\"graph\" transform=\"scale(1 1) rotate(0) translate(4 152)\">\n",
       "<title>%3</title>\n",
       "<polygon fill=\"white\" stroke=\"transparent\" points=\"-4,4 -4,-152 1331,-152 1331,4 -4,4\"/>\n",
       "<!-- 134190228903952 -->\n",
       "<g id=\"node1\" class=\"node\">\n",
       "<title>134190228903952</title>\n",
       "<polygon fill=\"none\" stroke=\"black\" points=\"3,-111.5 3,-147.5 234,-147.5 234,-111.5 3,-111.5\"/>\n",
       "<text text-anchor=\"middle\" x=\"15.5\" y=\"-125.8\" font-family=\"Times,serif\" font-size=\"14.00\">a</text>\n",
       "<polyline fill=\"none\" stroke=\"black\" points=\"28,-111.5 28,-147.5 \"/>\n",
       "<text text-anchor=\"middle\" x=\"79\" y=\"-125.8\" font-family=\"Times,serif\" font-size=\"14.00\">data 2.0000</text>\n",
       "<polyline fill=\"none\" stroke=\"black\" points=\"130,-111.5 130,-147.5 \"/>\n",
       "<text text-anchor=\"middle\" x=\"182\" y=\"-125.8\" font-family=\"Times,serif\" font-size=\"14.00\">grad 0.0000</text>\n",
       "</g>\n",
       "<!-- 134190189473328* -->\n",
       "<g id=\"node3\" class=\"node\">\n",
       "<title>134190189473328*</title>\n",
       "<ellipse fill=\"none\" stroke=\"black\" cx=\"300\" cy=\"-101.5\" rx=\"27\" ry=\"18\"/>\n",
       "<text text-anchor=\"middle\" x=\"300\" y=\"-97.8\" font-family=\"Times,serif\" font-size=\"14.00\">*</text>\n",
       "</g>\n",
       "<!-- 134190228903952&#45;&gt;134190189473328* -->\n",
       "<g id=\"edge9\" class=\"edge\">\n",
       "<title>134190228903952&#45;&gt;134190189473328*</title>\n",
       "<path fill=\"none\" stroke=\"black\" d=\"M234.2,-111.61C244.76,-109.96 254.83,-108.39 263.74,-107\"/>\n",
       "<polygon fill=\"black\" stroke=\"black\" points=\"264.3,-110.46 273.64,-105.46 263.22,-103.54 264.3,-110.46\"/>\n",
       "</g>\n",
       "<!-- 134190189473328 -->\n",
       "<g id=\"node2\" class=\"node\">\n",
       "<title>134190189473328</title>\n",
       "<polygon fill=\"none\" stroke=\"black\" points=\"364.5,-83.5 364.5,-119.5 600.5,-119.5 600.5,-83.5 364.5,-83.5\"/>\n",
       "<text text-anchor=\"middle\" x=\"377\" y=\"-97.8\" font-family=\"Times,serif\" font-size=\"14.00\">e</text>\n",
       "<polyline fill=\"none\" stroke=\"black\" points=\"389.5,-83.5 389.5,-119.5 \"/>\n",
       "<text text-anchor=\"middle\" x=\"443\" y=\"-97.8\" font-family=\"Times,serif\" font-size=\"14.00\">data &#45;6.0000</text>\n",
       "<polyline fill=\"none\" stroke=\"black\" points=\"496.5,-83.5 496.5,-119.5 \"/>\n",
       "<text text-anchor=\"middle\" x=\"548.5\" y=\"-97.8\" font-family=\"Times,serif\" font-size=\"14.00\">grad 0.0000</text>\n",
       "</g>\n",
       "<!-- 134190189465744+ -->\n",
       "<g id=\"node7\" class=\"node\">\n",
       "<title>134190189465744+</title>\n",
       "<ellipse fill=\"none\" stroke=\"black\" cx=\"665\" cy=\"-73.5\" rx=\"27\" ry=\"18\"/>\n",
       "<text text-anchor=\"middle\" x=\"665\" y=\"-69.8\" font-family=\"Times,serif\" font-size=\"14.00\">+</text>\n",
       "</g>\n",
       "<!-- 134190189473328&#45;&gt;134190189465744+ -->\n",
       "<g id=\"edge4\" class=\"edge\">\n",
       "<title>134190189473328&#45;&gt;134190189465744+</title>\n",
       "<path fill=\"none\" stroke=\"black\" d=\"M599.6,-83.49C609.91,-81.89 619.74,-80.37 628.46,-79.01\"/>\n",
       "<polygon fill=\"black\" stroke=\"black\" points=\"629.18,-82.44 638.52,-77.45 628.1,-75.53 629.18,-82.44\"/>\n",
       "</g>\n",
       "<!-- 134190189473328*&#45;&gt;134190189473328 -->\n",
       "<g id=\"edge1\" class=\"edge\">\n",
       "<title>134190189473328*&#45;&gt;134190189473328</title>\n",
       "<path fill=\"none\" stroke=\"black\" d=\"M327.25,-101.5C335.09,-101.5 344.27,-101.5 354.17,-101.5\"/>\n",
       "<polygon fill=\"black\" stroke=\"black\" points=\"354.28,-105 364.28,-101.5 354.28,-98 354.28,-105\"/>\n",
       "</g>\n",
       "<!-- 134190189471360 -->\n",
       "<g id=\"node4\" class=\"node\">\n",
       "<title>134190189471360</title>\n",
       "<polygon fill=\"none\" stroke=\"black\" points=\"1090,-27.5 1090,-63.5 1327,-63.5 1327,-27.5 1090,-27.5\"/>\n",
       "<text text-anchor=\"middle\" x=\"1103\" y=\"-41.8\" font-family=\"Times,serif\" font-size=\"14.00\">L</text>\n",
       "<polyline fill=\"none\" stroke=\"black\" points=\"1116,-27.5 1116,-63.5 \"/>\n",
       "<text text-anchor=\"middle\" x=\"1169.5\" y=\"-41.8\" font-family=\"Times,serif\" font-size=\"14.00\">data &#45;8.0000</text>\n",
       "<polyline fill=\"none\" stroke=\"black\" points=\"1223,-27.5 1223,-63.5 \"/>\n",
       "<text text-anchor=\"middle\" x=\"1275\" y=\"-41.8\" font-family=\"Times,serif\" font-size=\"14.00\">grad 1.0000</text>\n",
       "</g>\n",
       "<!-- 134190189471360* -->\n",
       "<g id=\"node5\" class=\"node\">\n",
       "<title>134190189471360*</title>\n",
       "<ellipse fill=\"none\" stroke=\"black\" cx=\"1027\" cy=\"-45.5\" rx=\"27\" ry=\"18\"/>\n",
       "<text text-anchor=\"middle\" x=\"1027\" y=\"-41.8\" font-family=\"Times,serif\" font-size=\"14.00\">*</text>\n",
       "</g>\n",
       "<!-- 134190189471360*&#45;&gt;134190189471360 -->\n",
       "<g id=\"edge2\" class=\"edge\">\n",
       "<title>134190189471360*&#45;&gt;134190189471360</title>\n",
       "<path fill=\"none\" stroke=\"black\" d=\"M1054.1,-45.5C1061.61,-45.5 1070.33,-45.5 1079.75,-45.5\"/>\n",
       "<polygon fill=\"black\" stroke=\"black\" points=\"1079.78,-49 1089.78,-45.5 1079.78,-42 1079.78,-49\"/>\n",
       "</g>\n",
       "<!-- 134190189465744 -->\n",
       "<g id=\"node6\" class=\"node\">\n",
       "<title>134190189465744</title>\n",
       "<polygon fill=\"none\" stroke=\"black\" points=\"728,-55.5 728,-91.5 964,-91.5 964,-55.5 728,-55.5\"/>\n",
       "<text text-anchor=\"middle\" x=\"741\" y=\"-69.8\" font-family=\"Times,serif\" font-size=\"14.00\">d</text>\n",
       "<polyline fill=\"none\" stroke=\"black\" points=\"754,-55.5 754,-91.5 \"/>\n",
       "<text text-anchor=\"middle\" x=\"805\" y=\"-69.8\" font-family=\"Times,serif\" font-size=\"14.00\">data 4.0000</text>\n",
       "<polyline fill=\"none\" stroke=\"black\" points=\"856,-55.5 856,-91.5 \"/>\n",
       "<text text-anchor=\"middle\" x=\"910\" y=\"-69.8\" font-family=\"Times,serif\" font-size=\"14.00\">grad &#45;2.0000</text>\n",
       "</g>\n",
       "<!-- 134190189465744&#45;&gt;134190189471360* -->\n",
       "<g id=\"edge8\" class=\"edge\">\n",
       "<title>134190189465744&#45;&gt;134190189471360*</title>\n",
       "<path fill=\"none\" stroke=\"black\" d=\"M962.13,-55.49C972.27,-53.91 981.92,-52.4 990.51,-51.05\"/>\n",
       "<polygon fill=\"black\" stroke=\"black\" points=\"991.09,-54.5 1000.43,-49.5 990.01,-47.59 991.09,-54.5\"/>\n",
       "</g>\n",
       "<!-- 134190189465744+&#45;&gt;134190189465744 -->\n",
       "<g id=\"edge3\" class=\"edge\">\n",
       "<title>134190189465744+&#45;&gt;134190189465744</title>\n",
       "<path fill=\"none\" stroke=\"black\" d=\"M692.03,-73.5C699.58,-73.5 708.38,-73.5 717.87,-73.5\"/>\n",
       "<polygon fill=\"black\" stroke=\"black\" points=\"717.99,-77 727.99,-73.5 717.99,-70 717.99,-77\"/>\n",
       "</g>\n",
       "<!-- 134190228903088 -->\n",
       "<g id=\"node8\" class=\"node\">\n",
       "<title>134190228903088</title>\n",
       "<polygon fill=\"none\" stroke=\"black\" points=\"363,-28.5 363,-64.5 602,-64.5 602,-28.5 363,-28.5\"/>\n",
       "<text text-anchor=\"middle\" x=\"375\" y=\"-42.8\" font-family=\"Times,serif\" font-size=\"14.00\">c</text>\n",
       "<polyline fill=\"none\" stroke=\"black\" points=\"387,-28.5 387,-64.5 \"/>\n",
       "<text text-anchor=\"middle\" x=\"442.5\" y=\"-42.8\" font-family=\"Times,serif\" font-size=\"14.00\">data 10.0000</text>\n",
       "<polyline fill=\"none\" stroke=\"black\" points=\"498,-28.5 498,-64.5 \"/>\n",
       "<text text-anchor=\"middle\" x=\"550\" y=\"-42.8\" font-family=\"Times,serif\" font-size=\"14.00\">grad 0.0000</text>\n",
       "</g>\n",
       "<!-- 134190228903088&#45;&gt;134190189465744+ -->\n",
       "<g id=\"edge5\" class=\"edge\">\n",
       "<title>134190228903088&#45;&gt;134190189465744+</title>\n",
       "<path fill=\"none\" stroke=\"black\" d=\"M602.13,-64.25C611.53,-65.65 620.47,-66.99 628.48,-68.19\"/>\n",
       "<polygon fill=\"black\" stroke=\"black\" points=\"628.03,-71.66 638.44,-69.68 629.07,-64.74 628.03,-71.66\"/>\n",
       "</g>\n",
       "<!-- 134190228906832 -->\n",
       "<g id=\"node9\" class=\"node\">\n",
       "<title>134190228906832</title>\n",
       "<polygon fill=\"none\" stroke=\"black\" points=\"0,-56.5 0,-92.5 237,-92.5 237,-56.5 0,-56.5\"/>\n",
       "<text text-anchor=\"middle\" x=\"13\" y=\"-70.8\" font-family=\"Times,serif\" font-size=\"14.00\">b</text>\n",
       "<polyline fill=\"none\" stroke=\"black\" points=\"26,-56.5 26,-92.5 \"/>\n",
       "<text text-anchor=\"middle\" x=\"79.5\" y=\"-70.8\" font-family=\"Times,serif\" font-size=\"14.00\">data &#45;3.0000</text>\n",
       "<polyline fill=\"none\" stroke=\"black\" points=\"133,-56.5 133,-92.5 \"/>\n",
       "<text text-anchor=\"middle\" x=\"185\" y=\"-70.8\" font-family=\"Times,serif\" font-size=\"14.00\">grad 0.0000</text>\n",
       "</g>\n",
       "<!-- 134190228906832&#45;&gt;134190189473328* -->\n",
       "<g id=\"edge7\" class=\"edge\">\n",
       "<title>134190228906832&#45;&gt;134190189473328*</title>\n",
       "<path fill=\"none\" stroke=\"black\" d=\"M237.23,-92.21C246.6,-93.62 255.52,-94.96 263.52,-96.16\"/>\n",
       "<polygon fill=\"black\" stroke=\"black\" points=\"263.06,-99.63 273.47,-97.66 264.1,-92.71 263.06,-99.63\"/>\n",
       "</g>\n",
       "<!-- 134190189469152 -->\n",
       "<g id=\"node10\" class=\"node\">\n",
       "<title>134190189469152</title>\n",
       "<polygon fill=\"none\" stroke=\"black\" points=\"729.5,-0.5 729.5,-36.5 962.5,-36.5 962.5,-0.5 729.5,-0.5\"/>\n",
       "<text text-anchor=\"middle\" x=\"740.5\" y=\"-14.8\" font-family=\"Times,serif\" font-size=\"14.00\">f</text>\n",
       "<polyline fill=\"none\" stroke=\"black\" points=\"751.5,-0.5 751.5,-36.5 \"/>\n",
       "<text text-anchor=\"middle\" x=\"805\" y=\"-14.8\" font-family=\"Times,serif\" font-size=\"14.00\">data &#45;2.0000</text>\n",
       "<polyline fill=\"none\" stroke=\"black\" points=\"858.5,-0.5 858.5,-36.5 \"/>\n",
       "<text text-anchor=\"middle\" x=\"910.5\" y=\"-14.8\" font-family=\"Times,serif\" font-size=\"14.00\">grad 4.0000</text>\n",
       "</g>\n",
       "<!-- 134190189469152&#45;&gt;134190189471360* -->\n",
       "<g id=\"edge6\" class=\"edge\">\n",
       "<title>134190189469152&#45;&gt;134190189471360*</title>\n",
       "<path fill=\"none\" stroke=\"black\" d=\"M962.64,-35.94C972.5,-37.43 981.9,-38.85 990.29,-40.11\"/>\n",
       "<polygon fill=\"black\" stroke=\"black\" points=\"989.94,-43.6 1000.35,-41.63 990.98,-36.68 989.94,-43.6\"/>\n",
       "</g>\n",
       "</g>\n",
       "</svg>\n"
      ],
      "text/plain": [
       "<graphviz.graphs.Digraph at 0x7a0b96937d30>"
      ]
     },
     "execution_count": 83,
     "metadata": {},
     "output_type": "execute_result"
    }
   ],
   "source": [
    "draw_dot(L)"
   ]
  },
  {
   "cell_type": "markdown",
   "metadata": {},
   "source": [
    "first, we can understand what is dd / dc\n",
    "\n",
    "```\n",
    "d = c + e\n",
    "(f(x + h) - f(x)) / h ----> common formula for derivative\n",
    "\n",
    "substitute f(x) with d,\n",
    "((c + h + e) - ( c + e)) / h\n",
    "(c + h + e - c - e) / h\n",
    "h / h\n",
    "1.0\n",
    "```"
   ]
  },
  {
   "cell_type": "markdown",
   "metadata": {},
   "source": [
    "> this is the notes for first 40 min in class by andrej karpathy"
   ]
  }
 ],
 "metadata": {
  "kernelspec": {
   "display_name": ".venv",
   "language": "python",
   "name": "python3"
  },
  "language_info": {
   "codemirror_mode": {
    "name": "ipython",
    "version": 3
   },
   "file_extension": ".py",
   "mimetype": "text/x-python",
   "name": "python",
   "nbconvert_exporter": "python",
   "pygments_lexer": "ipython3",
   "version": "3.10.12"
  }
 },
 "nbformat": 4,
 "nbformat_minor": 2
}
